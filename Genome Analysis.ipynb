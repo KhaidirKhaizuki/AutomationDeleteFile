{
 "cells": [
  {
   "cell_type": "code",
   "execution_count": null,
   "metadata": {},
   "outputs": [],
   "source": []
  },
  {
   "cell_type": "code",
   "execution_count": null,
   "metadata": {},
   "outputs": [],
   "source": []
  },
  {
   "cell_type": "code",
   "execution_count": null,
   "metadata": {},
   "outputs": [],
   "source": []
  },
  {
   "cell_type": "code",
   "execution_count": null,
   "metadata": {},
   "outputs": [],
   "source": []
  },
  {
   "cell_type": "code",
   "execution_count": 6,
   "metadata": {},
   "outputs": [],
   "source": [
    "from Bio.Seq import Seq\n",
    "from Bio import SeqIO\n",
    "adhd1 = SeqIO.read(\"finalsequence/sequence1.fasta\",\"fasta\")\n",
    "adhd2 = SeqIO.read(\"finalsequence/sequence2.fasta\",\"fasta\")\n",
    "adhd3 = SeqIO.read(\"finalsequence/sequence3.fasta\",\"fasta\")\n",
    "adhd4 = SeqIO.read(\"finalsequence/sequence4.fasta\",\"fasta\")\n",
    "adhd5 = SeqIO.read(\"finalsequence/sequence5.fasta\",\"fasta\")\n",
    "adhd6 = SeqIO.read(\"finalsequence/sequence6.fasta\",\"fasta\")\n",
    "adhd7 = SeqIO.read(\"finalsequence/sequence7.fasta\",\"fasta\")\n",
    "adhd8 = SeqIO.read(\"finalsequence/sequence8.fasta\",\"fasta\")\n",
    "adhd9 = SeqIO.read(\"finalsequence/sequence9.fasta\",\"fasta\")\n",
    "adhd10 = SeqIO.read(\"finalsequence/sequence10.fasta\",\"fasta\")"
   ]
  },
  {
   "cell_type": "code",
   "execution_count": 7,
   "metadata": {},
   "outputs": [
    {
     "data": {
      "text/plain": [
       "SeqRecord(seq=Seq('GCATTGCTCTTCAGCACCAGGGTTCTGGACAGCGCCCCAAGCAGGCAGCTGATC...GTT'), id='NM_173353.4:1-2360', name='NM_173353.4:1-2360', description='NM_173353.4:1-2360 Homo sapiens tryptophan hydroxylase 2 (TPH2), mRNA', dbxrefs=[])"
      ]
     },
     "execution_count": 7,
     "metadata": {},
     "output_type": "execute_result"
    }
   ],
   "source": [
    "adhd1"
   ]
  },
  {
   "cell_type": "code",
   "execution_count": 8,
   "metadata": {},
   "outputs": [
    {
     "data": {
      "text/plain": [
       "SeqRecord(seq=Seq('CATTGCTCTTCAGCACCAGGGTTCTGGACAGCGCCCCAAGCAGGCAGCTGATCG...GTT'), id='AY098914.1:1-2349', name='AY098914.1:1-2349', description='AY098914.1:1-2349 Homo sapiens neuronal tryptophan hydroxylase (TPH) mRNA, complete cds', dbxrefs=[])"
      ]
     },
     "execution_count": 8,
     "metadata": {},
     "output_type": "execute_result"
    }
   ],
   "source": [
    "adhd2\n"
   ]
  },
  {
   "cell_type": "code",
   "execution_count": 9,
   "metadata": {},
   "outputs": [
    {
     "data": {
      "text/plain": [
       "SeqRecord(seq=Seq('GCATTGCTCTTCAGCACCAGGGTTTTGGACAGCGCCCCAAGCAGGCAGCTGATC...GTT'), id='XM_003832903.3:110-2470', name='XM_003832903.3:110-2470', description='XM_003832903.3:110-2470 PREDICTED: Pan paniscus tryptophan hydroxylase 2 (TPH2), mRNA', dbxrefs=[])"
      ]
     },
     "execution_count": 9,
     "metadata": {},
     "output_type": "execute_result"
    }
   ],
   "source": [
    "adhd3"
   ]
  },
  {
   "cell_type": "code",
   "execution_count": 10,
   "metadata": {},
   "outputs": [
    {
     "data": {
      "text/plain": [
       "SeqRecord(seq=Seq('GCATTGCTCTTCAGCACCAGGGTTTTGGACAGCGCCCCAAGCAGGCAGCTGATC...GTT'), id='XM_522470.5:2070-4430', name='XM_522470.5:2070-4430', description='XM_522470.5:2070-4430 PREDICTED: Pan troglodytes tryptophan hydroxylase 2 (TPH2), mRNA', dbxrefs=[])"
      ]
     },
     "execution_count": 10,
     "metadata": {},
     "output_type": "execute_result"
    }
   ],
   "source": [
    "adhd4"
   ]
  },
  {
   "cell_type": "code",
   "execution_count": 11,
   "metadata": {},
   "outputs": [
    {
     "data": {
      "text/plain": [
       "SeqRecord(seq=Seq('GCATTGCTCTTCAGCACCAGGGTTCTGGACAGCGCCCCAAGCAGGCAGCTGATC...GTT'), id='XM_004053578.2:1-2349', name='XM_004053578.2:1-2349', description='XM_004053578.2:1-2349 PREDICTED: Gorilla gorilla gorilla tryptophan hydroxylase 2 (TPH2), mRNA', dbxrefs=[])"
      ]
     },
     "execution_count": 11,
     "metadata": {},
     "output_type": "execute_result"
    }
   ],
   "source": [
    "adhd5"
   ]
  },
  {
   "cell_type": "code",
   "execution_count": 12,
   "metadata": {},
   "outputs": [
    {
     "data": {
      "text/plain": [
       "SeqRecord(seq=Seq('CATTACTCTTCAGCACCAGGGTTCTGGACAGCGCCGCAAGCAGGCAGCTGATCG...GTT'), id='XM_002823521.2:1-2360', name='XM_002823521.2:1-2360', description='XM_002823521.2:1-2360 PREDICTED: Pongo abelii tryptophan hydroxylase 2 (TPH2), mRNA', dbxrefs=[])"
      ]
     },
     "execution_count": 12,
     "metadata": {},
     "output_type": "execute_result"
    }
   ],
   "source": [
    "adhd6"
   ]
  },
  {
   "cell_type": "code",
   "execution_count": 13,
   "metadata": {},
   "outputs": [
    {
     "data": {
      "text/plain": [
       "SeqRecord(seq=Seq('GCATTGCTCTTCAGCACCAGAGTTCTGGACAGCGCCCCAAGCAGGCAGGCAGCT...GTT'), id='XM_003259553.2:1-2365', name='XM_003259553.2:1-2365', description='XM_003259553.2:1-2365 PREDICTED: Nomascus leucogenys tryptophan hydroxylase 2 (TPH2), mRNA', dbxrefs=[])"
      ]
     },
     "execution_count": 13,
     "metadata": {},
     "output_type": "execute_result"
    }
   ],
   "source": [
    "adhd7"
   ]
  },
  {
   "cell_type": "code",
   "execution_count": 14,
   "metadata": {},
   "outputs": [
    {
     "data": {
      "text/plain": [
       "SeqRecord(seq=Seq('GCATTGCTCTTCAGCACCAGAGTTCTGGACAGCGCCCCAAGCAGGCAGGCAGCT...GTT'), id='XM_032171661.1:1-2365', name='XM_032171661.1:1-2365', description='XM_032171661.1:1-2365 PREDICTED: Hylobates moloch tryptophan hydroxylase 2 (TPH2), mRNA', dbxrefs=[])"
      ]
     },
     "execution_count": 14,
     "metadata": {},
     "output_type": "execute_result"
    }
   ],
   "source": [
    "adhd8"
   ]
  },
  {
   "cell_type": "code",
   "execution_count": 15,
   "metadata": {},
   "outputs": [
    {
     "data": {
      "text/plain": [
       "SeqRecord(seq=Seq('CATTGCTCTTCAGCACCAGTGTTCTGGACAGCGCCCCAAGCAGGCAGCTGATCG...ATC'), id='XM_011727152.2:65-2419', name='XM_011727152.2:65-2419', description='XM_011727152.2:65-2419 PREDICTED: Macaca nemestrina tryptophan hydroxylase 2 (TPH2), mRNA', dbxrefs=[])"
      ]
     },
     "execution_count": 15,
     "metadata": {},
     "output_type": "execute_result"
    }
   ],
   "source": [
    "adhd9"
   ]
  },
  {
   "cell_type": "code",
   "execution_count": 16,
   "metadata": {},
   "outputs": [
    {
     "data": {
      "text/plain": [
       "SeqRecord(seq=Seq('CATTGCTCTTCAGCACCAGGGTTCTGGACAGCGCCCCAAGCAGGCAGCTGATCG...ATG'), id='XM_023226566.1:1-2358', name='XM_023226566.1:1-2358', description='XM_023226566.1:1-2358 PREDICTED: Piliocolobus tephrosceles tryptophan hydroxylase 2 (TPH2), mRNA', dbxrefs=[])"
      ]
     },
     "execution_count": 16,
     "metadata": {},
     "output_type": "execute_result"
    }
   ],
   "source": [
    "\n",
    "adhd10"
   ]
  },
  {
   "cell_type": "code",
   "execution_count": 17,
   "metadata": {},
   "outputs": [],
   "source": [
    "adhd1_seq = adhd1.seq\n",
    "adhd2_seq = adhd2.seq\n",
    "adhd3_seq = adhd3.seq\n",
    "adhd4_seq = adhd4.seq\n",
    "adhd5_seq = adhd5.seq\n",
    "adhd6_seq = adhd6.seq\n",
    "adhd7_seq = adhd7.seq\n",
    "adhd8_seq = adhd8.seq\n",
    "adhd9_seq = adhd9.seq\n",
    "adhd10_seq = adhd10.seq"
   ]
  },
  {
   "cell_type": "code",
   "execution_count": 18,
   "metadata": {},
   "outputs": [
    {
     "name": "stdout",
     "output_type": "stream",
     "text": [
      "adhd_seq1 :: 2360\n",
      "adhd_seq2 :: 2349\n",
      "adhd_seq3 :: 2361\n",
      "adhd_seq4 :: 2361\n",
      "adhd_seq5 :: 2349\n",
      "adhd_seq6 :: 2360\n",
      "adhd_seq7 :: 2365\n",
      "adhd_seq8 :: 2365\n",
      "adhd_seq9 :: 2355\n",
      "adhd_seq10 :: 2358\n"
     ]
    }
   ],
   "source": [
    "print(\"adhd_seq1 ::\",len(adhd1_seq))\n",
    "print(\"adhd_seq2 ::\",len(adhd2_seq))\n",
    "print(\"adhd_seq3 ::\",len(adhd3_seq))\n",
    "print(\"adhd_seq4 ::\",len(adhd4_seq))\n",
    "print(\"adhd_seq5 ::\",len(adhd5_seq))\n",
    "print(\"adhd_seq6 ::\",len(adhd6_seq))\n",
    "print(\"adhd_seq7 ::\",len(adhd7_seq))\n",
    "print(\"adhd_seq8 ::\",len(adhd8_seq))\n",
    "print(\"adhd_seq9 ::\",len(adhd9_seq))\n",
    "print(\"adhd_seq10 ::\",len(adhd10_seq))\n"
   ]
  },
  {
   "cell_type": "code",
   "execution_count": 19,
   "metadata": {},
   "outputs": [
    {
     "name": "stdout",
     "output_type": "stream",
     "text": [
      "GC content of adhd_seq1 :: 43.05084745762712\n",
      "GC content of adhd_seq2 :: 43.08216262239251\n",
      "GC content of adhd_seq3 :: 42.86319356204998\n",
      "GC content of adhd_seq4 :: 42.94790343074968\n",
      "GC content of adhd_seq5 :: 42.99702000851426\n",
      "GC content of adhd_seq6 :: 42.75423728813559\n",
      "GC content of adhd_seq7 :: 43.00211416490486\n",
      "GC content of adhd_seq8 :: 43.00211416490486\n",
      "GC content of adhd_seq9 :: 42.9723991507431\n",
      "GC content of adhd_seq10 :: 43.34181509754029\n"
     ]
    }
   ],
   "source": [
    "from Bio.SeqUtils import GC\n",
    "print(\"GC content of adhd_seq1 ::\",GC(adhd1_seq))\n",
    "print(\"GC content of adhd_seq2 ::\",GC(adhd2_seq))\n",
    "print(\"GC content of adhd_seq3 ::\",GC(adhd3_seq))\n",
    "print(\"GC content of adhd_seq4 ::\",GC(adhd4_seq))\n",
    "print(\"GC content of adhd_seq5 ::\",GC(adhd5_seq))\n",
    "print(\"GC content of adhd_seq6 ::\",GC(adhd6_seq))\n",
    "print(\"GC content of adhd_seq7 ::\",GC(adhd7_seq))\n",
    "print(\"GC content of adhd_seq8 ::\",GC(adhd8_seq))\n",
    "print(\"GC content of adhd_seq9 ::\",GC(adhd9_seq))\n",
    "print(\"GC content of adhd_seq10 ::\",GC(adhd10_seq))"
   ]
  },
  {
   "cell_type": "code",
   "execution_count": 21,
   "metadata": {},
   "outputs": [
    {
     "name": "stdout",
     "output_type": "stream",
     "text": [
      "703 504 512 641\n"
     ]
    }
   ],
   "source": [
    "a = adhd1_seq.count('A')\n",
    "c = adhd1_seq.count('C')\n",
    "g = adhd1_seq.count('G')\n",
    "t = adhd1_seq.count('T')\n",
    "\n",
    "print(a, c, g, t)"
   ]
  },
  {
   "cell_type": "code",
   "execution_count": 22,
   "metadata": {},
   "outputs": [
    {
     "name": "stdout",
     "output_type": "stream",
     "text": [
      "700 502 510 637\n"
     ]
    }
   ],
   "source": [
    "a = adhd2_seq.count('A')\n",
    "c = adhd2_seq.count('C')\n",
    "g = adhd2_seq.count('G')\n",
    "t = adhd2_seq.count('T')\n",
    "\n",
    "print(a, c, g, t)"
   ]
  },
  {
   "cell_type": "code",
   "execution_count": 23,
   "metadata": {},
   "outputs": [
    {
     "name": "stdout",
     "output_type": "stream",
     "text": [
      "709 503 509 640\n"
     ]
    }
   ],
   "source": [
    "a = adhd3_seq.count('A')\n",
    "c = adhd3_seq.count('C')\n",
    "g = adhd3_seq.count('G')\n",
    "t = adhd3_seq.count('T')\n",
    "\n",
    "print(a, c, g, t)"
   ]
  },
  {
   "cell_type": "code",
   "execution_count": 24,
   "metadata": {},
   "outputs": [
    {
     "name": "stdout",
     "output_type": "stream",
     "text": [
      "708 504 510 639\n"
     ]
    }
   ],
   "source": [
    "a = adhd4_seq.count('A')\n",
    "c = adhd4_seq.count('C')\n",
    "g = adhd4_seq.count('G')\n",
    "t = adhd4_seq.count('T')\n",
    "\n",
    "print(a, c, g, t)"
   ]
  },
  {
   "cell_type": "code",
   "execution_count": 25,
   "metadata": {},
   "outputs": [
    {
     "name": "stdout",
     "output_type": "stream",
     "text": [
      "704 500 510 635\n"
     ]
    }
   ],
   "source": [
    "a = adhd5_seq.count('A')\n",
    "c = adhd5_seq.count('C')\n",
    "g = adhd5_seq.count('G')\n",
    "t = adhd5_seq.count('T')\n",
    "\n",
    "print(a, c, g, t)"
   ]
  },
  {
   "cell_type": "code",
   "execution_count": 26,
   "metadata": {},
   "outputs": [
    {
     "name": "stdout",
     "output_type": "stream",
     "text": [
      "708 499 510 643\n"
     ]
    }
   ],
   "source": [
    "a = adhd6_seq.count('A')\n",
    "c = adhd6_seq.count('C')\n",
    "g = adhd6_seq.count('G')\n",
    "t = adhd6_seq.count('T')\n",
    "\n",
    "print(a, c, g, t)"
   ]
  },
  {
   "cell_type": "code",
   "execution_count": 27,
   "metadata": {},
   "outputs": [
    {
     "name": "stdout",
     "output_type": "stream",
     "text": [
      "709 506 511 639\n"
     ]
    }
   ],
   "source": [
    "a = adhd7_seq.count('A')\n",
    "c = adhd7_seq.count('C')\n",
    "g = adhd7_seq.count('G')\n",
    "t = adhd7_seq.count('T')\n",
    "\n",
    "print(a, c, g, t)"
   ]
  },
  {
   "cell_type": "code",
   "execution_count": 28,
   "metadata": {},
   "outputs": [
    {
     "name": "stdout",
     "output_type": "stream",
     "text": [
      "711 507 510 637\n"
     ]
    }
   ],
   "source": [
    "a = adhd8_seq.count('A')\n",
    "c = adhd8_seq.count('C')\n",
    "g = adhd8_seq.count('G')\n",
    "t = adhd8_seq.count('T')\n",
    "\n",
    "print(a, c, g, t)"
   ]
  },
  {
   "cell_type": "code",
   "execution_count": 30,
   "metadata": {},
   "outputs": [
    {
     "name": "stdout",
     "output_type": "stream",
     "text": [
      "709 508 504 634\n"
     ]
    }
   ],
   "source": [
    "a = adhd9_seq.count('A')\n",
    "c = adhd9_seq.count('C')\n",
    "g = adhd9_seq.count('G')\n",
    "t = adhd9_seq.count('T')\n",
    "\n",
    "print(a, c, g, t)"
   ]
  },
  {
   "cell_type": "code",
   "execution_count": 29,
   "metadata": {},
   "outputs": [
    {
     "name": "stdout",
     "output_type": "stream",
     "text": [
      "701 507 515 635\n"
     ]
    }
   ],
   "source": [
    "a = adhd10_seq.count('A')\n",
    "c = adhd10_seq.count('C')\n",
    "g = adhd10_seq.count('G')\n",
    "t = adhd10_seq.count('T')\n",
    "\n",
    "print(a, c, g, t)"
   ]
  },
  {
   "cell_type": "code",
   "execution_count": 32,
   "metadata": {},
   "outputs": [],
   "source": [
    "from collections import Counter\n",
    "adhd_seq1freq = Counter(adhd1_seq)\n",
    "adhd_seq2freq = Counter(adhd2_seq)\n",
    "adhd_seq3freq = Counter(adhd3_seq)\n",
    "adhd_seq4freq = Counter(adhd4_seq)\n",
    "adhd_seq5freq = Counter(adhd5_seq)\n",
    "adhd_seq6freq = Counter(adhd6_seq)\n",
    "adhd_seq7freq = Counter(adhd7_seq)\n",
    "adhd_seq8freq = Counter(adhd8_seq)\n",
    "adhd_seq9freq = Counter(adhd9_seq)\n",
    "adhd_seq10freq = Counter(adhd10_seq)"
   ]
  },
  {
   "cell_type": "code",
   "execution_count": 33,
   "metadata": {},
   "outputs": [
    {
     "data": {
      "text/plain": [
       "Counter({'G': 512, 'C': 504, 'A': 703, 'T': 641})"
      ]
     },
     "execution_count": 33,
     "metadata": {},
     "output_type": "execute_result"
    }
   ],
   "source": [
    "adhd_seq1freq "
   ]
  },
  {
   "cell_type": "code",
   "execution_count": 34,
   "metadata": {},
   "outputs": [
    {
     "data": {
      "text/plain": [
       "Counter({'C': 502, 'A': 700, 'T': 637, 'G': 510})"
      ]
     },
     "execution_count": 34,
     "metadata": {},
     "output_type": "execute_result"
    }
   ],
   "source": [
    "adhd_seq2freq "
   ]
  },
  {
   "cell_type": "code",
   "execution_count": 40,
   "metadata": {},
   "outputs": [
    {
     "data": {
      "text/plain": [
       "Counter({'G': 509, 'C': 503, 'A': 709, 'T': 640})"
      ]
     },
     "execution_count": 40,
     "metadata": {},
     "output_type": "execute_result"
    }
   ],
   "source": [
    "adhd_seq3freq "
   ]
  },
  {
   "cell_type": "code",
   "execution_count": 41,
   "metadata": {},
   "outputs": [
    {
     "data": {
      "text/plain": [
       "Counter({'G': 510, 'C': 504, 'A': 708, 'T': 639})"
      ]
     },
     "execution_count": 41,
     "metadata": {},
     "output_type": "execute_result"
    }
   ],
   "source": [
    "adhd_seq4freq "
   ]
  },
  {
   "cell_type": "code",
   "execution_count": 42,
   "metadata": {},
   "outputs": [
    {
     "data": {
      "text/plain": [
       "Counter({'G': 510, 'C': 500, 'A': 704, 'T': 635})"
      ]
     },
     "execution_count": 42,
     "metadata": {},
     "output_type": "execute_result"
    }
   ],
   "source": [
    "adhd_seq5freq "
   ]
  },
  {
   "cell_type": "code",
   "execution_count": 39,
   "metadata": {},
   "outputs": [
    {
     "data": {
      "text/plain": [
       "Counter({'C': 499, 'A': 708, 'T': 643, 'G': 510})"
      ]
     },
     "execution_count": 39,
     "metadata": {},
     "output_type": "execute_result"
    }
   ],
   "source": [
    "adhd_seq6freq "
   ]
  },
  {
   "cell_type": "code",
   "execution_count": 38,
   "metadata": {},
   "outputs": [
    {
     "data": {
      "text/plain": [
       "Counter({'G': 511, 'C': 506, 'A': 709, 'T': 639})"
      ]
     },
     "execution_count": 38,
     "metadata": {},
     "output_type": "execute_result"
    }
   ],
   "source": [
    "adhd_seq7freq "
   ]
  },
  {
   "cell_type": "code",
   "execution_count": 37,
   "metadata": {},
   "outputs": [
    {
     "data": {
      "text/plain": [
       "Counter({'G': 510, 'C': 507, 'A': 711, 'T': 637})"
      ]
     },
     "execution_count": 37,
     "metadata": {},
     "output_type": "execute_result"
    }
   ],
   "source": [
    "adhd_seq8freq "
   ]
  },
  {
   "cell_type": "code",
   "execution_count": 36,
   "metadata": {},
   "outputs": [
    {
     "data": {
      "text/plain": [
       "Counter({'C': 508, 'A': 709, 'T': 634, 'G': 504})"
      ]
     },
     "execution_count": 36,
     "metadata": {},
     "output_type": "execute_result"
    }
   ],
   "source": [
    "adhd_seq9freq "
   ]
  },
  {
   "cell_type": "code",
   "execution_count": 35,
   "metadata": {},
   "outputs": [
    {
     "data": {
      "text/plain": [
       "Counter({'C': 507, 'A': 701, 'T': 635, 'G': 515})"
      ]
     },
     "execution_count": 35,
     "metadata": {},
     "output_type": "execute_result"
    }
   ],
   "source": [
    "adhd_seq10freq "
   ]
  },
  {
   "cell_type": "code",
   "execution_count": 44,
   "metadata": {},
   "outputs": [],
   "source": [
    "import numpy as np\n",
    "import matplotlib.pyplot as plt"
   ]
  },
  {
   "cell_type": "code",
   "execution_count": 46,
   "metadata": {},
   "outputs": [
    {
     "data": {
      "text/plain": [
       "<BarContainer object of 4 artists>"
      ]
     },
     "execution_count": 46,
     "metadata": {},
     "output_type": "execute_result"
    },
    {
     "data": {
      "image/png": "[encoded data removed]",
      "text/plain": [
       "<Figure size 432x288 with 1 Axes>"
      ]
     },
     "metadata": {
      "needs_background": "light"
     },
     "output_type": "display_data"
    }
   ],
   "source": [
    "plt.bar(adhd_seq1freq.keys(), adhd_seq10freq.values())"
   ]
  },
  {
   "cell_type": "code",
   "execution_count": 47,
   "metadata": {},
   "outputs": [
    {
     "data": {
      "text/plain": [
       "<BarContainer object of 4 artists>"
      ]
     },
     "execution_count": 47,
     "metadata": {},
     "output_type": "execute_result"
    },
    {
     "data": {
      "image/png": "[encoded data removed]",
      "text/plain": [
       "<Figure size 432x288 with 1 Axes>"
      ]
     },
     "metadata": {
      "needs_background": "light"
     },
     "output_type": "display_data"
    }
   ],
   "source": [
    "plt.bar(adhd_seq2freq.keys(), adhd_seq2freq.values())"
   ]
  },
  {
   "cell_type": "code",
   "execution_count": 48,
   "metadata": {},
   "outputs": [
    {
     "data": {
      "text/plain": [
       "<BarContainer object of 4 artists>"
      ]
     },
     "execution_count": 48,
     "metadata": {},
     "output_type": "execute_result"
    },
    {
     "data": {
      "image/png": "[encoded data removed]",
      "text/plain": [
       "<Figure size 432x288 with 1 Axes>"
      ]
     },
     "metadata": {
      "needs_background": "light"
     },
     "output_type": "display_data"
    }
   ],
   "source": [
    "plt.bar(adhd_seq3freq.keys(), adhd_seq3freq.values())"
   ]
  },
  {
   "cell_type": "code",
   "execution_count": 49,
   "metadata": {},
   "outputs": [
    {
     "data": {
      "text/plain": [
       "<BarContainer object of 4 artists>"
      ]
     },
     "execution_count": 49,
     "metadata": {},
     "output_type": "execute_result"
    },
    {
     "data": {
      "image/png": "[encoded data removed]",
      "text/plain": [
       "<Figure size 432x288 with 1 Axes>"
      ]
     },
     "metadata": {
      "needs_background": "light"
     },
     "output_type": "display_data"
    }
   ],
   "source": [
    "plt.bar(adhd_seq4freq.keys(), adhd_seq4freq.values())"
   ]
  },
  {
   "cell_type": "code",
   "execution_count": 50,
   "metadata": {},
   "outputs": [
    {
     "data": {
      "text/plain": [
       "<BarContainer object of 4 artists>"
      ]
     },
     "execution_count": 50,
     "metadata": {},
     "output_type": "execute_result"
    },
    {
     "data": {
      "image/png": "[encoded data removed]",
      "text/plain": [
       "<Figure size 432x288 with 1 Axes>"
      ]
     },
     "metadata": {
      "needs_background": "light"
     },
     "output_type": "display_data"
    }
   ],
   "source": [
    "plt.bar(adhd_seq5freq.keys(), adhd_seq5freq.values())"
   ]
  },
  {
   "cell_type": "code",
   "execution_count": 51,
   "metadata": {},
   "outputs": [
    {
     "data": {
      "text/plain": [
       "<BarContainer object of 4 artists>"
      ]
     },
     "execution_count": 51,
     "metadata": {},
     "output_type": "execute_result"
    },
    {
     "data": {
      "image/png": "[encoded data removed]",
      "text/plain": [
       "<Figure size 432x288 with 1 Axes>"
      ]
     },
     "metadata": {
      "needs_background": "light"
     },
     "output_type": "display_data"
    }
   ],
   "source": [
    "plt.bar(adhd_seq6freq.keys(), adhd_seq6freq.values())"
   ]
  },
  {
   "cell_type": "code",
   "execution_count": 52,
   "metadata": {},
   "outputs": [
    {
     "data": {
      "text/plain": [
       "<BarContainer object of 4 artists>"
      ]
     },
     "execution_count": 52,
     "metadata": {},
     "output_type": "execute_result"
    },
    {
     "data": {
      "image/png": "[encoded data removed]",
      "text/plain": [
       "<Figure size 432x288 with 1 Axes>"
      ]
     },
     "metadata": {
      "needs_background": "light"
     },
     "output_type": "display_data"
    }
   ],
   "source": [
    "plt.bar(adhd_seq7freq.keys(), adhd_seq7freq.values())"
   ]
  },
  {
   "cell_type": "code",
   "execution_count": 53,
   "metadata": {},
   "outputs": [
    {
     "data": {
      "text/plain": [
       "<BarContainer object of 4 artists>"
      ]
     },
     "execution_count": 53,
     "metadata": {},
     "output_type": "execute_result"
    },
    {
     "data": {
      "image/png": "[encoded data removed]",
      "text/plain": [
       "<Figure size 432x288 with 1 Axes>"
      ]
     },
     "metadata": {
      "needs_background": "light"
     },
     "output_type": "display_data"
    }
   ],
   "source": [
    "plt.bar(adhd_seq8freq.keys(), adhd_seq8freq.values())"
   ]
  },
  {
   "cell_type": "code",
   "execution_count": 54,
   "metadata": {},
   "outputs": [
    {
     "data": {
      "text/plain": [
       "<BarContainer object of 4 artists>"
      ]
     },
     "execution_count": 54,
     "metadata": {},
     "output_type": "execute_result"
    },
    {
     "data": {
      "image/png": "[encoded data removed]",
      "text/plain": [
       "<Figure size 432x288 with 1 Axes>"
      ]
     },
     "metadata": {
      "needs_background": "light"
     },
     "output_type": "display_data"
    }
   ],
   "source": [
    "plt.bar(adhd_seq9freq.keys(), adhd_seq9freq.values())"
   ]
  },
  {
   "cell_type": "code",
   "execution_count": 45,
   "metadata": {},
   "outputs": [
    {
     "data": {
      "text/plain": [
       "<BarContainer object of 4 artists>"
      ]
     },
     "execution_count": 45,
     "metadata": {},
     "output_type": "execute_result"
    },
    {
     "data": {
      "image/png": "[encoded data removed]",
      "text/plain": [
       "<Figure size 432x288 with 1 Axes>"
      ]
     },
     "metadata": {
      "needs_background": "light"
     },
     "output_type": "display_data"
    }
   ],
   "source": [
    "plt.bar(adhd_seq10freq.keys(), adhd_seq10freq.values())"
   ]
  },
  {
   "cell_type": "code",
   "execution_count": null,
   "metadata": {},
   "outputs": [],
   "source": []
  }
 ],
 "metadata": {
  "kernelspec": {
   "display_name": "Python 3",
   "language": "python",
   "name": "python3"
  },
  "language_info": {
   "codemirror_mode": {
    "name": "ipython",
    "version": 3
   },
   "file_extension": ".py",
   "mimetype": "text/x-python",
   "name": "python",
   "nbconvert_exporter": "python",
   "pygments_lexer": "ipython3",
   "version": "3.8.5"
  }
 },
 "nbformat": 4,
 "nbformat_minor": 4
}
