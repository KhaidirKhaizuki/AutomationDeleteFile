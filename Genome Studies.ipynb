{
 "cells": [
  {
   "cell_type": "code",
   "execution_count": 1,
   "metadata": {},
   "outputs": [
    {
     "data": {
      "text/plain": [
       "['ClustalOmegaCommandline',\n",
       " 'ClustalwCommandline',\n",
       " 'DialignCommandline',\n",
       " 'MSAProbsCommandline',\n",
       " 'MafftCommandline',\n",
       " 'MuscleCommandline',\n",
       " 'PrankCommandline',\n",
       " 'ProbconsCommandline',\n",
       " 'TCoffeeCommandline',\n",
       " '_ClustalOmega',\n",
       " '_Clustalw',\n",
       " '_Dialign',\n",
       " '_MSAProbs',\n",
       " '_Mafft',\n",
       " '_Muscle',\n",
       " '_Prank',\n",
       " '_Probcons',\n",
       " '_TCoffee',\n",
       " '__all__',\n",
       " '__builtins__',\n",
       " '__cached__',\n",
       " '__doc__',\n",
       " '__file__',\n",
       " '__loader__',\n",
       " '__name__',\n",
       " '__package__',\n",
       " '__path__',\n",
       " '__spec__']"
      ]
     },
     "execution_count": 1,
     "metadata": {},
     "output_type": "execute_result"
    }
   ],
   "source": [
    "import Bio.Align.Applications\n",
    "dir(Bio.Align.Applications)"
   ]
  },
  {
   "cell_type": "code",
   "execution_count": 2,
   "metadata": {},
   "outputs": [
    {
     "name": "stdout",
     "output_type": "stream",
     "text": [
      "Help on class ClustalwCommandline in module Bio.Align.Applications._Clustalw:\n",
      "\n",
      "class ClustalwCommandline(Bio.Application.AbstractCommandline)\n",
      " |  ClustalwCommandline(cmd='clustalw', **kwargs)\n",
      " |  \n",
      " |  Command line wrapper for clustalw (version one or two).\n",
      " |  \n",
      " |  http://www.clustal.org/\n",
      " |  \n",
      " |  Notes\n",
      " |  -----\n",
      " |  Last checked against versions: 1.83 and 2.1\n",
      " |  \n",
      " |  References\n",
      " |  ----------\n",
      " |  Larkin MA, Blackshields G, Brown NP, Chenna R, McGettigan PA,\n",
      " |  McWilliam H, Valentin F, Wallace IM, Wilm A, Lopez R, Thompson JD,\n",
      " |  Gibson TJ, Higgins DG. (2007). Clustal W and Clustal X version 2.0.\n",
      " |  Bioinformatics, 23, 2947-2948.\n",
      " |  \n",
      " |  Examples\n",
      " |  --------\n",
      " |  >>> from Bio.Align.Applications import ClustalwCommandline\n",
      " |  >>> in_file = \"unaligned.fasta\"\n",
      " |  >>> clustalw_cline = ClustalwCommandline(\"clustalw2\", infile=in_file)\n",
      " |  >>> print(clustalw_cline)\n",
      " |  clustalw2 -infile=unaligned.fasta\n",
      " |  \n",
      " |  You would typically run the command line with clustalw_cline() or via\n",
      " |  the Python subprocess module, as described in the Biopython tutorial.\n",
      " |  \n",
      " |  Method resolution order:\n",
      " |      ClustalwCommandline\n",
      " |      Bio.Application.AbstractCommandline\n",
      " |      builtins.object\n",
      " |  \n",
      " |  Methods defined here:\n",
      " |  \n",
      " |  __init__(self, cmd='clustalw', **kwargs)\n",
      " |      Initialize the class.\n",
      " |  \n",
      " |  ----------------------------------------------------------------------\n",
      " |  Methods inherited from Bio.Application.AbstractCommandline:\n",
      " |  \n",
      " |  __call__(self, stdin=None, stdout=True, stderr=True, cwd=None, env=None)\n",
      " |      Execute command, wait for it to finish, return (stdout, stderr).\n",
      " |      \n",
      " |      Runs the command line tool and waits for it to finish. If it returns\n",
      " |      a non-zero error level, an exception is raised. Otherwise two strings\n",
      " |      are returned containing stdout and stderr.\n",
      " |      \n",
      " |      The optional stdin argument should be a string of data which will be\n",
      " |      passed to the tool as standard input.\n",
      " |      \n",
      " |      The optional stdout and stderr argument may be filenames (string),\n",
      " |      but otherwise are treated as a booleans, and control if the output\n",
      " |      should be captured as strings (True, default), or ignored by sending\n",
      " |      it to /dev/null to avoid wasting memory (False). If sent to a file\n",
      " |      or ignored, then empty string(s) are returned.\n",
      " |      \n",
      " |      The optional cwd argument is a string giving the working directory\n",
      " |      to run the command from. See Python's subprocess module documentation\n",
      " |      for more details.\n",
      " |      \n",
      " |      The optional env argument is a dictionary setting the environment\n",
      " |      variables to be used in the new process. By default the current\n",
      " |      process' environment variables are used. See Python's subprocess\n",
      " |      module documentation for more details.\n",
      " |      \n",
      " |      Default example usage::\n",
      " |      \n",
      " |          from Bio.Emboss.Applications import WaterCommandline\n",
      " |          water_cmd = WaterCommandline(gapopen=10, gapextend=0.5,\n",
      " |                                       stdout=True, auto=True,\n",
      " |                                       asequence=\"a.fasta\", bsequence=\"b.fasta\")\n",
      " |          print(\"About to run: %s\" % water_cmd)\n",
      " |          std_output, err_output = water_cmd()\n",
      " |      \n",
      " |      This functionality is similar to subprocess.check_output(). In general\n",
      " |      if you require more control over running the command, use subprocess\n",
      " |      directly.\n",
      " |      \n",
      " |      When the program called returns a non-zero error level, a custom\n",
      " |      ApplicationError exception is raised. This includes any stdout and\n",
      " |      stderr strings captured as attributes of the exception object, since\n",
      " |      they may be useful for diagnosing what went wrong.\n",
      " |  \n",
      " |  __repr__(self)\n",
      " |      Return a representation of the command line object for debugging.\n",
      " |      \n",
      " |      e.g.\n",
      " |      \n",
      " |      >>> from Bio.Emboss.Applications import WaterCommandline\n",
      " |      >>> cline = WaterCommandline(gapopen=10, gapextend=0.5)\n",
      " |      >>> cline.asequence = \"asis:ACCCGGGCGCGGT\"\n",
      " |      >>> cline.bsequence = \"asis:ACCCGAGCGCGGT\"\n",
      " |      >>> cline.outfile = \"temp_water.txt\"\n",
      " |      >>> print(cline)\n",
      " |      water -outfile=temp_water.txt -asequence=asis:ACCCGGGCGCGGT -bsequence=asis:ACCCGAGCGCGGT -gapopen=10 -gapextend=0.5\n",
      " |      >>> cline\n",
      " |      WaterCommandline(cmd='water', outfile='temp_water.txt', asequence='asis:ACCCGGGCGCGGT', bsequence='asis:ACCCGAGCGCGGT', gapopen=10, gapextend=0.5)\n",
      " |  \n",
      " |  __setattr__(self, name, value)\n",
      " |      Set attribute name to value (PRIVATE).\n",
      " |      \n",
      " |      This code implements a workaround for a user interface issue.\n",
      " |      Without this __setattr__ attribute-based assignment of parameters\n",
      " |      will silently accept invalid parameters, leading to known instances\n",
      " |      of the user assuming that parameters for the application are set,\n",
      " |      when they are not.\n",
      " |      \n",
      " |      >>> from Bio.Emboss.Applications import WaterCommandline\n",
      " |      >>> cline = WaterCommandline(gapopen=10, gapextend=0.5, stdout=True)\n",
      " |      >>> cline.asequence = \"a.fasta\"\n",
      " |      >>> cline.bsequence = \"b.fasta\"\n",
      " |      >>> cline.csequence = \"c.fasta\"\n",
      " |      Traceback (most recent call last):\n",
      " |      ...\n",
      " |      ValueError: Option name csequence was not found.\n",
      " |      >>> print(cline)\n",
      " |      water -stdout -asequence=a.fasta -bsequence=b.fasta -gapopen=10 -gapextend=0.5\n",
      " |      \n",
      " |      This workaround uses a whitelist of object attributes, and sets the\n",
      " |      object attribute list as normal, for these.  Other attributes are\n",
      " |      assumed to be parameters, and passed to the self.set_parameter method\n",
      " |      for validation and assignment.\n",
      " |  \n",
      " |  __str__(self)\n",
      " |      Make the commandline string with the currently set options.\n",
      " |      \n",
      " |      e.g.\n",
      " |      \n",
      " |      >>> from Bio.Emboss.Applications import WaterCommandline\n",
      " |      >>> cline = WaterCommandline(gapopen=10, gapextend=0.5)\n",
      " |      >>> cline.asequence = \"asis:ACCCGGGCGCGGT\"\n",
      " |      >>> cline.bsequence = \"asis:ACCCGAGCGCGGT\"\n",
      " |      >>> cline.outfile = \"temp_water.txt\"\n",
      " |      >>> print(cline)\n",
      " |      water -outfile=temp_water.txt -asequence=asis:ACCCGGGCGCGGT -bsequence=asis:ACCCGAGCGCGGT -gapopen=10 -gapextend=0.5\n",
      " |      >>> str(cline)\n",
      " |      'water -outfile=temp_water.txt -asequence=asis:ACCCGGGCGCGGT -bsequence=asis:ACCCGAGCGCGGT -gapopen=10 -gapextend=0.5'\n",
      " |  \n",
      " |  set_parameter(self, name, value=None)\n",
      " |      Set a commandline option for a program (OBSOLETE).\n",
      " |      \n",
      " |      Every parameter is available via a property and as a named\n",
      " |      keyword when creating the instance. Using either of these is\n",
      " |      preferred to this legacy set_parameter method which is now\n",
      " |      OBSOLETE, and likely to be DEPRECATED and later REMOVED in\n",
      " |      future releases.\n",
      " |  \n",
      " |  ----------------------------------------------------------------------\n",
      " |  Data descriptors inherited from Bio.Application.AbstractCommandline:\n",
      " |  \n",
      " |  __dict__\n",
      " |      dictionary for instance variables (if defined)\n",
      " |  \n",
      " |  __weakref__\n",
      " |      list of weak references to the object (if defined)\n",
      " |  \n",
      " |  ----------------------------------------------------------------------\n",
      " |  Data and other attributes inherited from Bio.Application.AbstractCommandline:\n",
      " |  \n",
      " |  parameters = None\n",
      "\n"
     ]
    }
   ],
   "source": [
    "from Bio.Align.Applications import ClustalwCommandline\n",
    "help(ClustalwCommandline)"
   ]
  },
  {
   "cell_type": "markdown",
   "metadata": {},
   "source": [
    "<h2>ClustalW</h2>"
   ]
  },
  {
   "cell_type": "code",
   "execution_count": 7,
   "metadata": {},
   "outputs": [
    {
     "name": "stdout",
     "output_type": "stream",
     "text": [
      "clustalw2 -infile=ClustalWADHDGenome.fasta\n"
     ]
    }
   ],
   "source": [
    "from Bio.Align.Applications import ClustalwCommandline\n",
    "in_file = \"ClustalWADHDGenome.fasta\"\n",
    "# parsing DNA file (Unaligned)\n",
    "clustalw_cline = ClustalwCommandline(\"clustalw2\", infile= in_file)\n",
    "#performing the alignment\n",
    "# printing the output\n",
    "print(clustalw_cline)"
   ]
  },
  {
   "cell_type": "code",
   "execution_count": 9,
   "metadata": {},
   "outputs": [
    {
     "name": "stdout",
     "output_type": "stream",
     "text": [
      "\"C:\\Program Files (x86)\\ClustalW2\\clustalw2.exe\" -infile=ClustalWADHDGenome.fasta\n"
     ]
    }
   ],
   "source": [
    "import os\n",
    "clustalw_exe = r\"C:\\Program Files (x86)\\ClustalW2\\clustalw2.exe\"\n",
    "clustalw_cline = ClustalwCommandline(clustalw_exe, infile = \"ClustalWADHDGenome.fasta\")\n",
    "assert os.path.isfile(clustalw_exe), \"Clustal_W executable is missing or not found\"\n",
    "stdout, stderr = clustalw_cline()\n",
    "print(clustalw_cline)"
   ]
  },
  {
   "cell_type": "code",
   "execution_count": 10,
   "metadata": {},
   "outputs": [
    {
     "name": "stdout",
     "output_type": "stream",
     "text": [
      "Alignment with 10 rows and 2368 columns\n",
      "GCATTGCTCTTCAGCACCAGAGTTCTGGACAGCGCCCCAAGCAG...GTT XM_003259553.2_1-2365\n",
      "GCATTGCTCTTCAGCACCAGAGTTCTGGACAGCGCCCCAAGCAG...GTT XM_032171661.1_1-2365\n",
      "GCATTGCTCTTCAGCACCAGGGTTCTGGACAGCGCCCCAAGCAG...GTT NM_173353.4_1-2360\n",
      "-CATTGCTCTTCAGCACCAGGGTTCTGGACAGCGCCCCAAGCAG...GTT AY098914.1_1-2349\n",
      "GCATTGCTCTTCAGCACCAGGGTTTTGGACAGCGCCCCAAGCAG...GTT XM_003832903.3_110-2470\n",
      "GCATTGCTCTTCAGCACCAGGGTTTTGGACAGCGCCCCAAGCAG...GTT XM_522470.5_2070-4430\n",
      "GCATTGCTCTTCAGCACCAGGGTTCTGGACAGCGCCCCAAGCAG...GTT XM_004053578.2_1-2349\n",
      "-CATTACTCTTCAGCACCAGGGTTCTGGACAGCGCCGCAAGCAG...GTT XM_002823521.2_1-2360\n",
      "-CATTGCTCTTCAGCACCAGTGTTCTGGACAGCGCCCCAAGCAG...--- XM_011727152.2_65-2419\n",
      "-CATTGCTCTTCAGCACCAGGGTTCTGGACAGCGCCCCAAGCAG...G-- XM_023226566.1_1-2358\n"
     ]
    }
   ],
   "source": [
    "from Bio import AlignIO\n",
    "align = AlignIO.read(\"ClustalWADHDGenome.aln\", \"clustal\")\n",
    "print(align)"
   ]
  },
  {
   "cell_type": "code",
   "execution_count": 11,
   "metadata": {},
   "outputs": [
    {
     "name": "stdout",
     "output_type": "stream",
     "text": [
      "          , NM_173353.4_1-2360\n",
      "     _____|\n",
      "    |     | AY098914.1_1-2349\n",
      "  __|\n",
      " |  |       _____________ XM_002823521.2_1-2360\n",
      " |  |      |\n",
      " |  |______|             ___ XM_003259553.2_1-2365\n",
      " |         |____________|\n",
      " |         |            |_______ XM_032171661.1_1-2365\n",
      " |         |\n",
      " |         |                              __________ XM_011727152.2_65-2419\n",
      " |         |_____________________________|\n",
      " |                                       |___________ XM_023226566.1_1-2358\n",
      "_|\n",
      " |_______ XM_004053578.2_1-2349\n",
      " |\n",
      " | XM_003832903.3_110-2470\n",
      " |\n",
      " | XM_522470.5_2070-4430\n",
      "\n"
     ]
    }
   ],
   "source": [
    "from Bio import Phylo\n",
    "tree = Phylo.read(\"ClustalWADHDGenome.dnd\", \"newick\")\n",
    "Phylo.draw_ascii(tree)"
   ]
  },
  {
   "cell_type": "code",
   "execution_count": 12,
   "metadata": {},
   "outputs": [
    {
     "name": "stdout",
     "output_type": "stream",
     "text": [
      "XM_003259553.2_1-2365\t0\n",
      "XM_032171661.1_1-2365\t0.007179054054054057\t0\n",
      "NM_173353.4_1-2360\t0.020692567567567544\t0.022804054054054057\t0\n",
      "AY098914.1_1-2349\t0.02533783783783783\t0.027449324324324342\t0.004645270270270285\t0\n",
      "XM_003832903.3_110-2470\t0.019425675675675658\t0.02153716216216217\t0.0063344594594594295\t0.010979729729729715\t0\n",
      "XM_522470.5_2070-4430\t0.019425675675675658\t0.02153716216216217\t0.0063344594594594295\t0.010979729729729715\t0.0008445945945946276\t0\n",
      "XM_004053578.2_1-2349\t0.026182432432432456\t0.028716216216216228\t0.013513513513513487\t0.018158783783783772\t0.010557432432432456\t0.010557432432432456\t0\n",
      "XM_002823521.2_1-2360\t0.021114864864864913\t0.024070945945945943\t0.017736486486486513\t0.021114864864864913\t0.016469594594594628\t0.016469594594594628\t0.023226351351351315\t0\n",
      "XM_011727152.2_65-2419\t0.0401182432432432\t0.041807432432432456\t0.03758445945945943\t0.04138513513513509\t0.03505067567567566\t0.03505067567567566\t0.04138513513513509\t0.03673986486486491\t0\n",
      "XM_023226566.1_1-2358\t0.03969594594594594\t0.04096283783783783\t0.03673986486486491\t0.04054054054054057\t0.03420608108108103\t0.03420608108108103\t0.04054054054054057\t0.036317567567567544\t0.015202702702702742\t0\n",
      "\tXM_003259553.2_1-2365\tXM_032171661.1_1-2365\tNM_173353.4_1-2360\tAY098914.1_1-2349\tXM_003832903.3_110-2470\tXM_522470.5_2070-4430\tXM_004053578.2_1-2349\tXM_002823521.2_1-2360\tXM_011727152.2_65-2419\tXM_023226566.1_1-2358\n"
     ]
    }
   ],
   "source": [
    "from Bio.Phylo.TreeConstruction import DistanceCalculator\n",
    "\n",
    "#calculate the distance matrix\n",
    "calculator = DistanceCalculator('identity')\n",
    "#adds distance matrix to the calculator object and returns it\n",
    "dm = calculator.get_distance(align)\n",
    "print(dm)"
   ]
  },
  {
   "cell_type": "code",
   "execution_count": 14,
   "metadata": {},
   "outputs": [],
   "source": [
    "from Bio.Phylo.TreeConstruction import DistanceTreeConstructor\n",
    "\n",
    "#initialize a DistanceTreeConstructor object based on our distance calculator object\n",
    "constructor = DistanceTreeConstructor(calculator)\n",
    "\n",
    "#build the tree\n",
    "upgma_tree = constructor.build_tree(align)"
   ]
  },
  {
   "cell_type": "code",
   "execution_count": 15,
   "metadata": {},
   "outputs": [
    {
     "data": {
      "image/png": "[encoded data removed]",
      "text/plain": [
       "<Figure size 432x288 with 1 Axes>"
      ]
     },
     "metadata": {
      "needs_background": "light"
     },
     "output_type": "display_data"
    }
   ],
   "source": [
    "from Bio import Phylo\n",
    "import pylab\n",
    "#draw the tree\n",
    "Phylo.draw(upgma_tree)"
   ]
  },
  {
   "cell_type": "markdown",
   "metadata": {},
   "source": [
    "<h2>MUSCLE</h2>"
   ]
  },
  {
   "cell_type": "code",
   "execution_count": 32,
   "metadata": {},
   "outputs": [
    {
     "name": "stdout",
     "output_type": "stream",
     "text": [
      "muscle -in MuscleADHDGenome.fasta\n"
     ]
    }
   ],
   "source": [
    "from Bio.Align.Applications import MuscleCommandline\n",
    "muscle_cline = MuscleCommandline(input=\"MuscleADHDGenome.fasta\")\n",
    "print(muscle_cline)"
   ]
  },
  {
   "cell_type": "code",
   "execution_count": 35,
   "metadata": {},
   "outputs": [
    {
     "name": "stdout",
     "output_type": "stream",
     "text": [
      "muscle -in MuscleADHDGenome.fasta -out MuscleADHDGenome.txt\n"
     ]
    }
   ],
   "source": [
    "from Bio.Align.Applications import MuscleCommandline\n",
    "cline = MuscleCommandline(input=\"MuscleADHDGenome.fasta\", out=\"MuscleADHDGenome.txt\")\n",
    "print(cline)\n"
   ]
  },
  {
   "cell_type": "code",
   "execution_count": 37,
   "metadata": {},
   "outputs": [
    {
     "name": "stdout",
     "output_type": "stream",
     "text": [
      "Alignment with 10 rows and 2368 columns\n",
      "GCATTGCTCTTCAGCACCAGAGTTCTGGACAGCGCCCCAAGCAG...GTT XM_003259553.2_1-2365\n",
      "GCATTGCTCTTCAGCACCAGAGTTCTGGACAGCGCCCCAAGCAG...GTT XM_032171661.1_1-2365\n",
      "GCATTGCTCTTCAGCACCAGGGTTCTGGACAGCGCCCCAAGCAG...GTT NM_173353.4_1-2360\n",
      "-CATTGCTCTTCAGCACCAGGGTTCTGGACAGCGCCCCAAGCAG...GTT AY098914.1_1-2349\n",
      "GCATTGCTCTTCAGCACCAGGGTTTTGGACAGCGCCCCAAGCAG...GTT XM_003832903.3_110-2470\n",
      "GCATTGCTCTTCAGCACCAGGGTTTTGGACAGCGCCCCAAGCAG...GTT XM_522470.5_2070-4430\n",
      "GCATTGCTCTTCAGCACCAGGGTTCTGGACAGCGCCCCAAGCAG...GTT XM_004053578.2_1-2349\n",
      "-CATTACTCTTCAGCACCAGGGTTCTGGACAGCGCCGCAAGCAG...GTT XM_002823521.2_1-2360\n",
      "-CATTGCTCTTCAGCACCAGTGTTCTGGACAGCGCCCCAAGCAG...--- XM_011727152.2_65-2419\n",
      "-CATTGCTCTTCAGCACCAGGGTTCTGGACAGCGCCCCAAGCAG...G-- XM_023226566.1_1-2358\n"
     ]
    }
   ],
   "source": [
    "from Bio.Align.Applications import MuscleCommandline\n",
    "from Bio import AlignIO\n",
    "musclealign = AlignIO.read(\"MuscleADHDGenome.aln\", \"clustal\")\n",
    "print(musclealign)"
   ]
  },
  {
   "cell_type": "code",
   "execution_count": 38,
   "metadata": {},
   "outputs": [
    {
     "name": "stdout",
     "output_type": "stream",
     "text": [
      "          , NM_173353.4_1-2360\n",
      "     _____|\n",
      "    |     | AY098914.1_1-2349\n",
      "  __|\n",
      " |  |       _____________ XM_002823521.2_1-2360\n",
      " |  |      |\n",
      " |  |______|             ___ XM_003259553.2_1-2365\n",
      " |         |____________|\n",
      " |         |            |_______ XM_032171661.1_1-2365\n",
      " |         |\n",
      " |         |                              __________ XM_011727152.2_65-2419\n",
      " |         |_____________________________|\n",
      " |                                       |___________ XM_023226566.1_1-2358\n",
      "_|\n",
      " |_______ XM_004053578.2_1-2349\n",
      " |\n",
      " | XM_003832903.3_110-2470\n",
      " |\n",
      " | XM_522470.5_2070-4430\n",
      "\n"
     ]
    }
   ],
   "source": [
    "from Bio import Phylo\n",
    "tree = Phylo.read(\"MuscleADHDGenome.dnd\", \"newick\")\n",
    "Phylo.draw_ascii(tree)"
   ]
  },
  {
   "cell_type": "code",
   "execution_count": 39,
   "metadata": {},
   "outputs": [
    {
     "name": "stdout",
     "output_type": "stream",
     "text": [
      "XM_003259553.2_1-2365\t0\n",
      "XM_032171661.1_1-2365\t0.007179054054054057\t0\n",
      "NM_173353.4_1-2360\t0.020692567567567544\t0.022804054054054057\t0\n",
      "AY098914.1_1-2349\t0.02533783783783783\t0.027449324324324342\t0.004645270270270285\t0\n",
      "XM_003832903.3_110-2470\t0.019425675675675658\t0.02153716216216217\t0.0063344594594594295\t0.010979729729729715\t0\n",
      "XM_522470.5_2070-4430\t0.019425675675675658\t0.02153716216216217\t0.0063344594594594295\t0.010979729729729715\t0.0008445945945946276\t0\n",
      "XM_004053578.2_1-2349\t0.026182432432432456\t0.028716216216216228\t0.013513513513513487\t0.018158783783783772\t0.010557432432432456\t0.010557432432432456\t0\n",
      "XM_002823521.2_1-2360\t0.021114864864864913\t0.024070945945945943\t0.017736486486486513\t0.021114864864864913\t0.016469594594594628\t0.016469594594594628\t0.023226351351351315\t0\n",
      "XM_011727152.2_65-2419\t0.0401182432432432\t0.041807432432432456\t0.03758445945945943\t0.04138513513513509\t0.03505067567567566\t0.03505067567567566\t0.04138513513513509\t0.03673986486486491\t0\n",
      "XM_023226566.1_1-2358\t0.03969594594594594\t0.04096283783783783\t0.03673986486486491\t0.04054054054054057\t0.03420608108108103\t0.03420608108108103\t0.04054054054054057\t0.036317567567567544\t0.015202702702702742\t0\n",
      "\tXM_003259553.2_1-2365\tXM_032171661.1_1-2365\tNM_173353.4_1-2360\tAY098914.1_1-2349\tXM_003832903.3_110-2470\tXM_522470.5_2070-4430\tXM_004053578.2_1-2349\tXM_002823521.2_1-2360\tXM_011727152.2_65-2419\tXM_023226566.1_1-2358\n"
     ]
    }
   ],
   "source": [
    "from Bio.Phylo.TreeConstruction import DistanceCalculator\n",
    "\n",
    "#calculate the distance matrix\n",
    "calculator = DistanceCalculator('identity')\n",
    "#adds distance matrix to the calculator object and returns it\n",
    "dm = calculator.get_distance(musclealign)\n",
    "print(dm)"
   ]
  },
  {
   "cell_type": "code",
   "execution_count": 47,
   "metadata": {},
   "outputs": [],
   "source": [
    "from Bio.Phylo.TreeConstruction import DistanceTreeConstructor\n",
    "\n",
    "#initialize a DistanceTreeConstructor object based on our distance calculator object\n",
    "constructor = DistanceTreeConstructor(calculator)\n",
    "\n",
    "#build the tree\n",
    "upgma_tree = constructor.build_tree(musclealign)"
   ]
  },
  {
   "cell_type": "code",
   "execution_count": 48,
   "metadata": {},
   "outputs": [
    {
     "data": {
      "image/png": "[encoded data removed]",
      "text/plain": [
       "<Figure size 432x288 with 1 Axes>"
      ]
     },
     "metadata": {
      "needs_background": "light"
     },
     "output_type": "display_data"
    }
   ],
   "source": [
    "from Bio import Phylo\n",
    "import pylab\n",
    "#draw the tree\n",
    "Phylo.draw(upgma_tree2)"
   ]
  },
  {
   "cell_type": "markdown",
   "metadata": {},
   "source": [
    "<h2>TCoffee</h2>"
   ]
  },
  {
   "cell_type": "code",
   "execution_count": 22,
   "metadata": {},
   "outputs": [
    {
     "name": "stdout",
     "output_type": "stream",
     "text": [
      "t_coffee -output clustalw -infile TCoffeeADHDGenome.fasta -outfile TCoffeeADHDGenome.aln\n"
     ]
    }
   ],
   "source": [
    "from Bio.Align.Applications import TCoffeeCommandline\n",
    "tcoffee_cline = TCoffeeCommandline(infile=\"TCoffeeADHDGenome.fasta\",\n",
    "                                   output=\"clustalw\",\n",
    "                                   outfile=\"TCoffeeADHDGenome.aln\")\n",
    "print(tcoffee_cline)"
   ]
  },
  {
   "cell_type": "code",
   "execution_count": 23,
   "metadata": {},
   "outputs": [
    {
     "name": "stdout",
     "output_type": "stream",
     "text": [
      "Alignment with 10 rows and 2368 columns\n",
      "GCATTGCTCTTCAGCACCAGGGTTCTGGACAGCGCCCCAAGCAG...GTT NM_173353.4_1-2360\n",
      "-CATTGCTCTTCAGCACCAGGGTTCTGGACAGCGCCCCAAGCAG...GTT AY098914.1_1-2349\n",
      "GCATTGCTCTTCAGCACCAGGGTTTTGGACAGCGCCCCAAGCAG...GTT XM_003832903.3_110-2470\n",
      "GCATTGCTCTTCAGCACCAGGGTTTTGGACAGCGCCCCAAGCAG...GTT XM_522470.5_2070-4430\n",
      "GCATTGCTCTTCAGCACCAGGGTTCTGGACAGCGCCCCAAGCAG...GTT XM_004053578.2_1-2349\n",
      "-CATTACTCTTCAGCACCAGGGTTCTGGACAGCGCCGCAAGCAG...GTT XM_002823521.2_1-2360\n",
      "GCATTGCTCTTCAGCACCAGAGTTCTGGACAGCGCCCCAAGCAG...GTT XM_003259553.2_1-2365\n",
      "GCATTGCTCTTCAGCACCAGAGTTCTGGACAGCGCCCCAAGCAG...GTT XM_032171661.1_1-2365\n",
      "-CATTGCTCTTCAGCACCAGTGTTCTGGACAGCGCCCCAAGCAG...--C XM_011727152.2_65-2419\n",
      "-CATTGCTCTTCAGCACCAGGGTTCTGGACAGCGCCCCAAGCAG...--G XM_023226566.1_1-2358\n"
     ]
    }
   ],
   "source": [
    "from Bio.Align.Applications import TCoffeeCommandline\n",
    "from Bio import AlignIO\n",
    "TCoffeeAlign = AlignIO.read(\"TCoffeeADHDGenome.aln\", \"clustal\")\n",
    "print(TCoffeeAlign)"
   ]
  },
  {
   "cell_type": "code",
   "execution_count": 24,
   "metadata": {},
   "outputs": [
    {
     "name": "stdout",
     "output_type": "stream",
     "text": [
      "          , AY098914.1_1-2349\n",
      "  ________|\n",
      " |        | NM_173353.4_1-2360\n",
      " |\n",
      " |             __________________ XM_002823521.2_1-2360\n",
      " |         ___|\n",
      " |        |   |             _____ XM_003259553.2_1-2365\n",
      " |        |   |____________|\n",
      " |________|                |_____ XM_032171661.1_1-2365\n",
      " |        |\n",
      " |        |                              ____________ XM_011727152.2_65-2419\n",
      "_|        |_____________________________|\n",
      " |                                      |____________ XM_023226566.1_1-2358\n",
      " |\n",
      " |  , XM_003832903.3_110-2470\n",
      " |__|\n",
      " |  | XM_522470.5_2070-4430\n",
      " |\n",
      " |________ XM_004053578.2_1-2349\n",
      "\n"
     ]
    }
   ],
   "source": [
    "# Generate Dendogram (Tree) output\n",
    "from Bio import Phylo\n",
    "tree = Phylo.read(\"TCoffeeADHDGenome.dnd\", \"newick\")\n",
    "Phylo.draw_ascii(tree)"
   ]
  },
  {
   "cell_type": "code",
   "execution_count": 25,
   "metadata": {},
   "outputs": [
    {
     "name": "stdout",
     "output_type": "stream",
     "text": [
      "NM_173353.4_1-2360\t0\n",
      "AY098914.1_1-2349\t0.004645270270270285\t0\n",
      "XM_003832903.3_110-2470\t0.0063344594594594295\t0.010979729729729715\t0\n",
      "XM_522470.5_2070-4430\t0.0063344594594594295\t0.010979729729729715\t0.0008445945945946276\t0\n",
      "XM_004053578.2_1-2349\t0.013513513513513487\t0.018158783783783772\t0.010557432432432456\t0.010557432432432456\t0\n",
      "XM_002823521.2_1-2360\t0.021114864864864913\t0.0244932432432432\t0.019847972972973027\t0.019847972972973027\t0.026604729729729715\t0\n",
      "XM_003259553.2_1-2365\t0.020692567567567544\t0.02533783783783783\t0.019425675675675658\t0.019425675675675658\t0.026182432432432456\t0.021114864864864913\t0\n",
      "XM_032171661.1_1-2365\t0.022804054054054057\t0.027449324324324342\t0.02153716216216217\t0.02153716216216217\t0.028716216216216228\t0.024070945945945943\t0.007179054054054057\t0\n",
      "XM_011727152.2_65-2419\t0.0380067567567568\t0.041807432432432456\t0.03547297297297303\t0.03547297297297303\t0.041807432432432456\t0.04054054054054057\t0.04054054054054057\t0.042229729729729715\t0\n",
      "XM_023226566.1_1-2358\t0.03716216216216217\t0.04096283783783783\t0.0346283783783784\t0.0346283783783784\t0.04096283783783783\t0.0401182432432432\t0.0401182432432432\t0.04138513513513509\t0.015625\t0\n",
      "\tNM_173353.4_1-2360\tAY098914.1_1-2349\tXM_003832903.3_110-2470\tXM_522470.5_2070-4430\tXM_004053578.2_1-2349\tXM_002823521.2_1-2360\tXM_003259553.2_1-2365\tXM_032171661.1_1-2365\tXM_011727152.2_65-2419\tXM_023226566.1_1-2358\n"
     ]
    }
   ],
   "source": [
    "from Bio.Phylo.TreeConstruction import DistanceCalculator\n",
    "\n",
    "#calculate the distance matrix\n",
    "calculator = DistanceCalculator('identity')\n",
    "#adds distance matrix to the calculator object and returns it\n",
    "dm = calculator.get_distance(TCoffeeAlign)\n",
    "print(dm)"
   ]
  },
  {
   "cell_type": "code",
   "execution_count": 44,
   "metadata": {},
   "outputs": [],
   "source": [
    "from Bio.Phylo.TreeConstruction import DistanceTreeConstructor\n",
    "\n",
    "#initialize a DistanceTreeConstructor object based on our distance calculator object\n",
    "constructor = DistanceTreeConstructor(calculator)\n",
    "\n",
    "#build the tree\n",
    "upgma_tree3 = constructor.build_tree(TCoffeeAlign)"
   ]
  },
  {
   "cell_type": "code",
   "execution_count": 45,
   "metadata": {},
   "outputs": [
    {
     "data": {
      "image/png": "[encoded data removed]",
      "text/plain": [
       "<Figure size 432x288 with 1 Axes>"
      ]
     },
     "metadata": {
      "needs_background": "light"
     },
     "output_type": "display_data"
    }
   ],
   "source": [
    "### from Bio import Phylo\n",
    "import pylab\n",
    "#draw the tree\n",
    "Phylo.draw(upgma_tree3)"
   ]
  },
  {
   "cell_type": "code",
   "execution_count": null,
   "metadata": {},
   "outputs": [],
   "source": []
  }
 ],
 "metadata": {
  "kernelspec": {
   "display_name": "Python 3",
   "language": "python",
   "name": "python3"
  },
  "language_info": {
   "codemirror_mode": {
    "name": "ipython",
    "version": 3
   },
   "file_extension": ".py",
   "mimetype": "text/x-python",
   "name": "python",
   "nbconvert_exporter": "python",
   "pygments_lexer": "ipython3",
   "version": "3.8.5"
  }
 },
 "nbformat": 4,
 "nbformat_minor": 4
}
