{
 "cells": [
  {
   "cell_type": "code",
   "execution_count": 3,
   "metadata": {},
   "outputs": [],
   "source": [
    "from Bio.Seq import Seq\n",
    "from Bio import SeqIO"
   ]
  },
  {
   "cell_type": "code",
   "execution_count": 4,
   "metadata": {},
   "outputs": [],
   "source": [
    "covid1 = SeqIO.read(\"projectsequence/sequence1.fasta\",\"fasta\")\n",
    "covid2 = SeqIO.read(\"projectsequence/sequence2.fasta\",\"fasta\")\n",
    "covid3 = SeqIO.read(\"projectsequence/sequence3.fasta\",\"fasta\")\n",
    "covid4 = SeqIO.read(\"projectsequence/sequence4.fasta\",\"fasta\")\n",
    "covid5 = SeqIO.read(\"projectsequence/sequence5.fasta\",\"fasta\")\n",
    "covid6 = SeqIO.read(\"projectsequence/sequence6.fasta\",\"fasta\")\n",
    "covid7 = SeqIO.read(\"projectsequence/sequence7.fasta\",\"fasta\")\n",
    "covid8 = SeqIO.read(\"projectsequence/sequence8.fasta\",\"fasta\")\n",
    "covid9 = SeqIO.read(\"projectsequence/sequence9.fasta\",\"fasta\")\n",
    "covid10 = SeqIO.read(\"projectsequence/sequence10.fasta\",\"fasta\")\n",
    "covid11 = SeqIO.read(\"projectsequence/sequence11.fasta\",\"fasta\")\n",
    "covid12 = SeqIO.read(\"projectsequence/sequence12.fasta\",\"fasta\")\n",
    "covid13 = SeqIO.read(\"projectsequence/sequence13.fasta\",\"fasta\")\n",
    "covid14 = SeqIO.read(\"projectsequence/sequence14.fasta\",\"fasta\")\n",
    "covid15 = SeqIO.read(\"projectsequence/sequence15.fasta\",\"fasta\")"
   ]
  },
  {
   "cell_type": "code",
   "execution_count": 5,
   "metadata": {},
   "outputs": [
    {
     "data": {
      "text/plain": [
       "SeqRecord(seq=Seq('AGNATEVPANSTVLSFCAFAVDAAKAYKDYLASGGQPITNCVKMLCTHTGTGQA...MLQ'), id='YP_009742617.1', name='YP_009742617.1', description='YP_009742617.1 nsp10 [Severe acute respiratory syndrome coronavirus 2]', dbxrefs=[])"
      ]
     },
     "execution_count": 5,
     "metadata": {},
     "output_type": "execute_result"
    }
   ],
   "source": [
    "covid1"
   ]
  },
  {
   "cell_type": "code",
   "execution_count": 6,
   "metadata": {},
   "outputs": [
    {
     "data": {
      "text/plain": [
       "SeqRecord(seq=Seq('NNELSPVALRQMSCAAGTTQTACTDDNALAYYNTTKGGRFVLALLSDLQDLKWA...RLQ'), id='YP_009742616.1', name='YP_009742616.1', description='YP_009742616.1 nsp9 [Severe acute respiratory syndrome coronavirus 2]', dbxrefs=[])"
      ]
     },
     "execution_count": 6,
     "metadata": {},
     "output_type": "execute_result"
    }
   ],
   "source": [
    "covid2"
   ]
  },
  {
   "cell_type": "code",
   "execution_count": 7,
   "metadata": {},
   "outputs": [
    {
     "data": {
      "text/plain": [
       "SeqRecord(seq=Seq('AIASEFSSLPSYAAFATAQEAYEQAVANGDSEVVLKKLKKSLNVAKSEFDRDAA...KLQ'), id='YP_009742615.1', name='YP_009742615.1', description='YP_009742615.1 nsp8 [Severe acute respiratory syndrome coronavirus 2]', dbxrefs=[])"
      ]
     },
     "execution_count": 7,
     "metadata": {},
     "output_type": "execute_result"
    }
   ],
   "source": [
    "covid3"
   ]
  },
  {
   "cell_type": "code",
   "execution_count": 8,
   "metadata": {},
   "outputs": [
    {
     "data": {
      "text/plain": [
       "SeqRecord(seq=Seq('SKMSDVKCTSVVLLSVLQQLRVESSSKLWAQCVQLHNDILLAKDTTEAFEKMVS...TLQ'), id='YP_009742614.1', name='YP_009742614.1', description='YP_009742614.1 nsp7 [Severe acute respiratory syndrome coronavirus 2]', dbxrefs=[])"
      ]
     },
     "execution_count": 8,
     "metadata": {},
     "output_type": "execute_result"
    }
   ],
   "source": [
    "covid4"
   ]
  },
  {
   "cell_type": "code",
   "execution_count": 9,
   "metadata": {},
   "outputs": [
    {
     "data": {
      "text/plain": [
       "SeqRecord(seq=Seq('SAVKRTIKGTHHWLLLTILTSLLVLVQSTQWSLFFFLYENAFLPFAMGIIAMSA...TVQ'), id='YP_009742613.1', name='YP_009742613.1', description='YP_009742613.1 nsp6 [Severe acute respiratory syndrome coronavirus 2]', dbxrefs=[])"
      ]
     },
     "execution_count": 9,
     "metadata": {},
     "output_type": "execute_result"
    }
   ],
   "source": [
    "covid5"
   ]
  },
  {
   "cell_type": "code",
   "execution_count": 10,
   "metadata": {},
   "outputs": [
    {
     "data": {
      "text/plain": [
       "SeqRecord(seq=Seq('SGFRKMAFPSGKVEGCMVQVTCGTTTLNGLWLDDVVYCPRHVICTSEDMLNPNY...TFQ'), id='YP_009742612.1', name='YP_009742612.1', description='YP_009742612.1 3C-like proteinase [Severe acute respiratory syndrome coronavirus 2]', dbxrefs=[])"
      ]
     },
     "execution_count": 10,
     "metadata": {},
     "output_type": "execute_result"
    }
   ],
   "source": [
    "covid6"
   ]
  },
  {
   "cell_type": "code",
   "execution_count": 11,
   "metadata": {},
   "outputs": [
    {
     "data": {
      "text/plain": [
       "SeqRecord(seq=Seq('KIVNNWLKQLIKVTLVFLFVAAIFYLITPVHVMSKHTDFSSEIIGYKAIDGGVT...VLQ'), id='YP_009742611.1', name='YP_009742611.1', description='YP_009742611.1 nsp4 [Severe acute respiratory syndrome coronavirus 2]', dbxrefs=[])"
      ]
     },
     "execution_count": 11,
     "metadata": {},
     "output_type": "execute_result"
    }
   ],
   "source": [
    "covid7"
   ]
  },
  {
   "cell_type": "code",
   "execution_count": 12,
   "metadata": {},
   "outputs": [
    {
     "data": {
      "text/plain": [
       "SeqRecord(seq=Seq('APTKVTFGDDTVIEVQGYKSVNITFELDERIDKVLNEKCSAYTVELGTEVNEFA...KGG'), id='YP_009742610.1', name='YP_009742610.1', description='YP_009742610.1 nsp3 [Severe acute respiratory syndrome coronavirus 2]', dbxrefs=[])"
      ]
     },
     "execution_count": 12,
     "metadata": {},
     "output_type": "execute_result"
    }
   ],
   "source": [
    "covid8"
   ]
  },
  {
   "cell_type": "code",
   "execution_count": 13,
   "metadata": {},
   "outputs": [
    {
     "data": {
      "text/plain": [
       "SeqRecord(seq=Seq('AYTRYVDNNFCGPDGYPLECIKDLLARAGKASCTLSEQLDFIDTKRGVYCCREH...KGG'), id='YP_009742609.1', name='YP_009742609.1', description='YP_009742609.1 nsp2 [Severe acute respiratory syndrome coronavirus 2]', dbxrefs=[])"
      ]
     },
     "execution_count": 13,
     "metadata": {},
     "output_type": "execute_result"
    }
   ],
   "source": [
    "covid9"
   ]
  },
  {
   "cell_type": "code",
   "execution_count": 14,
   "metadata": {},
   "outputs": [
    {
     "data": {
      "text/plain": [
       "SeqRecord(seq=Seq('MESLVPGFNEKTHVQLSLPVLQVRDVLVRGFGDSVEEVLSEARQHLKDGTCGLV...NGG'), id='YP_009742608.1', name='YP_009742608.1', description='YP_009742608.1 leader protein [Severe acute respiratory syndrome coronavirus 2]', dbxrefs=[])"
      ]
     },
     "execution_count": 14,
     "metadata": {},
     "output_type": "execute_result"
    }
   ],
   "source": [
    "covid10"
   ]
  },
  {
   "cell_type": "code",
   "execution_count": 15,
   "metadata": {},
   "outputs": [
    {
     "data": {
      "text/plain": [
       "SeqRecord(seq=Seq('MIELSLIDFYLCFLAFLLFLVLIMLIIFWFSLELQDHNETCHA'), id='YP_009725318.1', name='YP_009725318.1', description='YP_009725318.1 ORF7b [Severe acute respiratory syndrome coronavirus 2]', dbxrefs=[])"
      ]
     },
     "execution_count": 15,
     "metadata": {},
     "output_type": "execute_result"
    }
   ],
   "source": [
    "covid11"
   ]
  },
  {
   "cell_type": "code",
   "execution_count": 16,
   "metadata": {},
   "outputs": [
    {
     "data": {
      "text/plain": [
       "SeqRecord(seq=Seq('SADAQSFLNGFAV'), id='YP_009725312.1', name='YP_009725312.1', description='YP_009725312.1 nsp11 [Severe acute respiratory syndrome coronavirus 2]', dbxrefs=[])"
      ]
     },
     "execution_count": 16,
     "metadata": {},
     "output_type": "execute_result"
    }
   ],
   "source": [
    "covid12"
   ]
  },
  {
   "cell_type": "code",
   "execution_count": 17,
   "metadata": {},
   "outputs": [
    {
     "data": {
      "text/plain": [
       "SeqRecord(seq=Seq('SSQAWQPGVAMPNLYKMQRMLLEKCDLQNYGDSATLPKGIMMNVAKYTQLCQYL...VNN'), id='YP_009725311.1', name='YP_009725311.1', description=\"YP_009725311.1 2'-O-ribose methyltransferase [Severe acute respiratory syndrome coronavirus 2]\", dbxrefs=[])"
      ]
     },
     "execution_count": 17,
     "metadata": {},
     "output_type": "execute_result"
    }
   ],
   "source": [
    "covid13"
   ]
  },
  {
   "cell_type": "code",
   "execution_count": 18,
   "metadata": {},
   "outputs": [
    {
     "data": {
      "text/plain": [
       "SeqRecord(seq=Seq('SLENVAFNVVNKGHFDGQQGEVPVSIINNTVYTKVDGVDVELFENKTTLPVNVA...KLQ'), id='YP_009725310.1', name='YP_009725310.1', description='YP_009725310.1 endoRNAse [Severe acute respiratory syndrome coronavirus 2]', dbxrefs=[])"
      ]
     },
     "execution_count": 18,
     "metadata": {},
     "output_type": "execute_result"
    }
   ],
   "source": [
    "covid14"
   ]
  },
  {
   "cell_type": "code",
   "execution_count": 19,
   "metadata": {},
   "outputs": [
    {
     "data": {
      "text/plain": [
       "SeqRecord(seq=Seq('AENVTGLFKDCSKVITGLHPTQAPTHLSVDTKFKTEGLCVDIPGIPKDMTYRRL...RLQ'), id='YP_009725309.1', name='YP_009725309.1', description=\"YP_009725309.1 3'-to-5' exonuclease [Severe acute respiratory syndrome coronavirus 2]\", dbxrefs=[])"
      ]
     },
     "execution_count": 19,
     "metadata": {},
     "output_type": "execute_result"
    }
   ],
   "source": [
    "covid15"
   ]
  },
  {
   "cell_type": "code",
   "execution_count": 20,
   "metadata": {},
   "outputs": [],
   "source": [
    "covid_seq1 = covid1.seq\n",
    "covid_seq2 = covid2.seq\n",
    "covid_seq3 = covid3.seq\n",
    "covid_seq4 = covid4.seq\n",
    "covid_seq5 = covid5.seq\n",
    "covid_seq6 = covid6.seq\n",
    "covid_seq7 = covid7.seq\n",
    "covid_seq8 = covid8.seq\n",
    "covid_seq9 = covid9.seq\n",
    "covid_seq10 = covid10.seq\n",
    "covid_seq11 = covid11.seq\n",
    "covid_seq12 = covid12.seq\n",
    "covid_seq13 = covid13.seq\n",
    "covid_seq14 = covid14.seq\n",
    "covid_seq15 = covid15.seq"
   ]
  },
  {
   "cell_type": "code",
   "execution_count": 21,
   "metadata": {},
   "outputs": [
    {
     "name": "stdout",
     "output_type": "stream",
     "text": [
      "covid_seq1 :: 139\n",
      "covid_seq2 :: 113\n",
      "covid_seq3 :: 198\n",
      "covid_seq4 :: 83\n",
      "covid_seq5 :: 290\n",
      "covid_seq6 :: 306\n",
      "covid_seq7 :: 500\n",
      "covid_seq8 :: 1945\n",
      "covid_seq9 :: 638\n",
      "covid_seq10 :: 180\n",
      "covid_seq11 :: 43\n",
      "covid_seq12 :: 13\n",
      "covid_seq13 :: 298\n",
      "covid_seq14 :: 346\n",
      "covid_seq15 :: 527\n"
     ]
    }
   ],
   "source": [
    "print(\"covid_seq1 ::\",len(covid_seq1))\n",
    "print(\"covid_seq2 ::\",len(covid_seq2))\n",
    "print(\"covid_seq3 ::\",len(covid_seq3))\n",
    "print(\"covid_seq4 ::\",len(covid_seq4))\n",
    "print(\"covid_seq5 ::\",len(covid_seq5))\n",
    "print(\"covid_seq6 ::\",len(covid_seq6))\n",
    "print(\"covid_seq7 ::\",len(covid_seq7))\n",
    "print(\"covid_seq8 ::\",len(covid_seq8))\n",
    "print(\"covid_seq9 ::\",len(covid_seq9))\n",
    "print(\"covid_seq10 ::\",len(covid_seq10))\n",
    "print(\"covid_seq11 ::\",len(covid_seq11))\n",
    "print(\"covid_seq12 ::\",len(covid_seq12))\n",
    "print(\"covid_seq13 ::\",len(covid_seq13))\n",
    "print(\"covid_seq14 ::\",len(covid_seq14))\n",
    "print(\"covid_seq15 ::\",len(covid_seq15))\n"
   ]
  },
  {
   "cell_type": "code",
   "execution_count": 23,
   "metadata": {},
   "outputs": [],
   "source": [
    "from Bio.SeqUtils import GC"
   ]
  },
  {
   "cell_type": "code",
   "execution_count": 24,
   "metadata": {},
   "outputs": [
    {
     "name": "stdout",
     "output_type": "stream",
     "text": [
      "GC content of covid_seq1 :: 23.02158273381295\n",
      "GC content of covid_seq2 :: 15.044247787610619\n",
      "GC content of covid_seq3 :: 10.1010101010101\n",
      "GC content of covid_seq4 :: 16.867469879518072\n",
      "GC content of covid_seq5 :: 14.482758620689655\n",
      "GC content of covid_seq6 :: 17.647058823529413\n",
      "GC content of covid_seq7 :: 16.2\n",
      "GC content of covid_seq8 :: 14.80719794344473\n",
      "GC content of covid_seq9 :: 17.55485893416928\n",
      "GC content of covid_seq10 :: 18.333333333333332\n",
      "GC content of covid_seq11 :: 9.30232558139535\n",
      "GC content of covid_seq12 :: 23.076923076923077\n",
      "GC content of covid_seq13 :: 16.107382550335572\n",
      "GC content of covid_seq14 :: 13.583815028901734\n",
      "GC content of covid_seq15 :: 15.370018975332068\n"
     ]
    }
   ],
   "source": [
    "print(\"GC content of covid_seq1 ::\",GC(covid_seq1))\n",
    "print(\"GC content of covid_seq2 ::\",GC(covid_seq2))\n",
    "print(\"GC content of covid_seq3 ::\",GC(covid_seq3))\n",
    "print(\"GC content of covid_seq4 ::\",GC(covid_seq4))\n",
    "print(\"GC content of covid_seq5 ::\",GC(covid_seq5))\n",
    "print(\"GC content of covid_seq6 ::\",GC(covid_seq6))\n",
    "print(\"GC content of covid_seq7 ::\",GC(covid_seq7))\n",
    "print(\"GC content of covid_seq8 ::\",GC(covid_seq8))\n",
    "print(\"GC content of covid_seq9 ::\",GC(covid_seq9))\n",
    "print(\"GC content of covid_seq10 ::\",GC(covid_seq10))\n",
    "print(\"GC content of covid_seq11 ::\",GC(covid_seq11))\n",
    "print(\"GC content of covid_seq12 ::\",GC(covid_seq12))\n",
    "print(\"GC content of covid_seq13 ::\",GC(covid_seq13))\n",
    "print(\"GC content of covid_seq14 ::\",GC(covid_seq14))\n",
    "print(\"GC content of covid_seq15 ::\",GC(covid_seq15))"
   ]
  },
  {
   "cell_type": "code",
   "execution_count": 25,
   "metadata": {},
   "outputs": [],
   "source": [
    "import numpy as np\n",
    "import matplotlib.pyplot as plt"
   ]
  },
  {
   "cell_type": "code",
   "execution_count": 26,
   "metadata": {},
   "outputs": [],
   "source": [
    "covid_protein1 = covid_seq1\n",
    "covid_protein2 = covid_seq2\n",
    "covid_protein3 = covid_seq3\n",
    "covid_protein4 = covid_seq4\n",
    "covid_protein5 = covid_seq5\n",
    "covid_protein6 = covid_seq6\n",
    "covid_protein7 = covid_seq7\n",
    "covid_protein8 = covid_seq8\n",
    "covid_protein9 = covid_seq9\n",
    "covid_protein10 = covid_seq10\n",
    "covid_protein11 = covid_seq11\n",
    "covid_protein12 = covid_seq12\n",
    "covid_protein13 = covid_seq13\n",
    "covid_protein14 = covid_seq14\n",
    "covid_protein15 = covid_seq15\n",
    "\n"
   ]
  },
  {
   "cell_type": "code",
   "execution_count": 27,
   "metadata": {},
   "outputs": [],
   "source": [
    "\n",
    "from Bio.SeqUtils.ProtParam import ProteinAnalysis"
   ]
  },
  {
   "cell_type": "code",
   "execution_count": 28,
   "metadata": {},
   "outputs": [],
   "source": [
    "covid_analysed1 = ProteinAnalysis(str(covid_protein1))\n",
    "covid_analysed2 = ProteinAnalysis(str(covid_protein2))\n",
    "covid_analysed3 = ProteinAnalysis(str(covid_protein3))\n",
    "covid_analysed4 = ProteinAnalysis(str(covid_protein4))\n",
    "covid_analysed5 = ProteinAnalysis(str(covid_protein5))\n",
    "covid_analysed6 = ProteinAnalysis(str(covid_protein6))\n",
    "covid_analysed7 = ProteinAnalysis(str(covid_protein7))\n",
    "covid_analysed8 = ProteinAnalysis(str(covid_protein8))\n",
    "covid_analysed9 = ProteinAnalysis(str(covid_protein9))\n",
    "covid_analysed10 = ProteinAnalysis(str(covid_protein10))\n",
    "covid_analysed11 = ProteinAnalysis(str(covid_protein11))\n",
    "covid_analysed12 = ProteinAnalysis(str(covid_protein12))\n",
    "covid_analysed13 = ProteinAnalysis(str(covid_protein13))\n",
    "covid_analysed14 = ProteinAnalysis(str(covid_protein14))\n",
    "covid_analysed15 = ProteinAnalysis(str(covid_protein15))"
   ]
  },
  {
   "cell_type": "code",
   "execution_count": 29,
   "metadata": {},
   "outputs": [
    {
     "name": "stdout",
     "output_type": "stream",
     "text": [
      "covid_protein1 :: 139\n",
      "covid_protein2 :: 113\n",
      "covid_protein3 :: 198\n",
      "covid_protein4 :: 83\n",
      "covid_protein5 :: 290\n",
      "covid_protein6 :: 306\n",
      "covid_protein7 :: 500\n",
      "covid_protein8 :: 1945\n",
      "covid_protein9 :: 638\n",
      "covid_protein10 :: 180\n",
      "covid_protein11 :: 43\n",
      "covid_protein12 :: 13\n",
      "covid_protein13 :: 298\n",
      "covid_protein14 :: 346\n",
      "covid_protein15 :: 527\n"
     ]
    }
   ],
   "source": [
    "print(\"covid_protein1 ::\",len(covid_protein1))\n",
    "print(\"covid_protein2 ::\",len(covid_protein2))\n",
    "print(\"covid_protein3 ::\",len(covid_protein3))\n",
    "print(\"covid_protein4 ::\",len(covid_protein4))\n",
    "print(\"covid_protein5 ::\",len(covid_protein5))\n",
    "print(\"covid_protein6 ::\",len(covid_protein6))\n",
    "print(\"covid_protein7 ::\",len(covid_protein7))\n",
    "print(\"covid_protein8 ::\",len(covid_protein8))\n",
    "print(\"covid_protein9 ::\",len(covid_protein9))\n",
    "print(\"covid_protein10 ::\",len(covid_protein10))\n",
    "print(\"covid_protein11 ::\",len(covid_protein11))\n",
    "print(\"covid_protein12 ::\",len(covid_protein12))\n",
    "print(\"covid_protein13 ::\",len(covid_protein13))\n",
    "print(\"covid_protein14 ::\",len(covid_protein14))\n",
    "print(\"covid_protein15 ::\",len(covid_protein15))"
   ]
  },
  {
   "cell_type": "code",
   "execution_count": 30,
   "metadata": {},
   "outputs": [
    {
     "data": {
      "text/plain": [
       "{'A': 13,\n",
       " 'C': 13,\n",
       " 'D': 7,\n",
       " 'E': 4,\n",
       " 'F': 5,\n",
       " 'G': 13,\n",
       " 'H': 3,\n",
       " 'I': 4,\n",
       " 'K': 8,\n",
       " 'L': 8,\n",
       " 'M': 4,\n",
       " 'N': 7,\n",
       " 'P': 8,\n",
       " 'Q': 6,\n",
       " 'R': 2,\n",
       " 'S': 6,\n",
       " 'T': 13,\n",
       " 'V': 9,\n",
       " 'W': 1,\n",
       " 'Y': 5}"
      ]
     },
     "execution_count": 30,
     "metadata": {},
     "output_type": "execute_result"
    }
   ],
   "source": [
    "covid_analysed1.count_amino_acids()"
   ]
  },
  {
   "cell_type": "code",
   "execution_count": 31,
   "metadata": {},
   "outputs": [
    {
     "data": {
      "text/plain": [
       "{'A': 10,\n",
       " 'C': 3,\n",
       " 'D': 6,\n",
       " 'E': 3,\n",
       " 'F': 4,\n",
       " 'G': 9,\n",
       " 'H': 0,\n",
       " 'I': 2,\n",
       " 'K': 7,\n",
       " 'L': 15,\n",
       " 'M': 2,\n",
       " 'N': 7,\n",
       " 'P': 6,\n",
       " 'Q': 4,\n",
       " 'R': 6,\n",
       " 'S': 5,\n",
       " 'T': 12,\n",
       " 'V': 6,\n",
       " 'W': 1,\n",
       " 'Y': 5}"
      ]
     },
     "execution_count": 31,
     "metadata": {},
     "output_type": "execute_result"
    }
   ],
   "source": [
    "covid_analysed2.count_amino_acids()"
   ]
  },
  {
   "cell_type": "code",
   "execution_count": 32,
   "metadata": {},
   "outputs": [
    {
     "data": {
      "text/plain": [
       "{'A': 28,\n",
       " 'C': 2,\n",
       " 'D': 13,\n",
       " 'E': 9,\n",
       " 'F': 5,\n",
       " 'G': 3,\n",
       " 'H': 0,\n",
       " 'I': 10,\n",
       " 'K': 15,\n",
       " 'L': 18,\n",
       " 'M': 9,\n",
       " 'N': 13,\n",
       " 'P': 6,\n",
       " 'Q': 11,\n",
       " 'R': 7,\n",
       " 'S': 15,\n",
       " 'T': 13,\n",
       " 'V': 13,\n",
       " 'W': 2,\n",
       " 'Y': 6}"
      ]
     },
     "execution_count": 32,
     "metadata": {},
     "output_type": "execute_result"
    }
   ],
   "source": [
    "covid_analysed3.count_amino_acids()"
   ]
  },
  {
   "cell_type": "code",
   "execution_count": 33,
   "metadata": {},
   "outputs": [
    {
     "data": {
      "text/plain": [
       "{'A': 5,\n",
       " 'C': 3,\n",
       " 'D': 5,\n",
       " 'E': 5,\n",
       " 'F': 1,\n",
       " 'G': 1,\n",
       " 'H': 1,\n",
       " 'I': 2,\n",
       " 'K': 6,\n",
       " 'L': 15,\n",
       " 'M': 4,\n",
       " 'N': 3,\n",
       " 'P': 0,\n",
       " 'Q': 6,\n",
       " 'R': 2,\n",
       " 'S': 10,\n",
       " 'T': 4,\n",
       " 'V': 9,\n",
       " 'W': 1,\n",
       " 'Y': 0}"
      ]
     },
     "execution_count": 33,
     "metadata": {},
     "output_type": "execute_result"
    }
   ],
   "source": [
    "covid_analysed4.count_amino_acids()"
   ]
  },
  {
   "cell_type": "code",
   "execution_count": 34,
   "metadata": {},
   "outputs": [
    {
     "data": {
      "text/plain": [
       "{'A': 20,\n",
       " 'C': 10,\n",
       " 'D': 8,\n",
       " 'E': 3,\n",
       " 'F': 22,\n",
       " 'G': 15,\n",
       " 'H': 4,\n",
       " 'I': 16,\n",
       " 'K': 12,\n",
       " 'L': 41,\n",
       " 'M': 17,\n",
       " 'N': 10,\n",
       " 'P': 7,\n",
       " 'Q': 7,\n",
       " 'R': 9,\n",
       " 'S': 17,\n",
       " 'T': 21,\n",
       " 'V': 28,\n",
       " 'W': 6,\n",
       " 'Y': 17}"
      ]
     },
     "execution_count": 34,
     "metadata": {},
     "output_type": "execute_result"
    }
   ],
   "source": [
    "covid_analysed5.count_amino_acids()"
   ]
  },
  {
   "cell_type": "code",
   "execution_count": 35,
   "metadata": {},
   "outputs": [
    {
     "data": {
      "text/plain": [
       "{'A': 17,\n",
       " 'C': 12,\n",
       " 'D': 17,\n",
       " 'E': 9,\n",
       " 'F': 17,\n",
       " 'G': 26,\n",
       " 'H': 7,\n",
       " 'I': 11,\n",
       " 'K': 11,\n",
       " 'L': 29,\n",
       " 'M': 10,\n",
       " 'N': 21,\n",
       " 'P': 13,\n",
       " 'Q': 14,\n",
       " 'R': 11,\n",
       " 'S': 16,\n",
       " 'T': 24,\n",
       " 'V': 27,\n",
       " 'W': 3,\n",
       " 'Y': 11}"
      ]
     },
     "execution_count": 35,
     "metadata": {},
     "output_type": "execute_result"
    }
   ],
   "source": [
    "covid_analysed6.count_amino_acids()"
   ]
  },
  {
   "cell_type": "code",
   "execution_count": 37,
   "metadata": {},
   "outputs": [
    {
     "data": {
      "text/plain": [
       "{'A': 36,\n",
       " 'C': 16,\n",
       " 'D': 22,\n",
       " 'E': 15,\n",
       " 'F': 37,\n",
       " 'G': 27,\n",
       " 'H': 9,\n",
       " 'I': 30,\n",
       " 'K': 17,\n",
       " 'L': 49,\n",
       " 'M': 9,\n",
       " 'N': 21,\n",
       " 'P': 20,\n",
       " 'Q': 9,\n",
       " 'R': 20,\n",
       " 'S': 38,\n",
       " 'T': 41,\n",
       " 'V': 46,\n",
       " 'W': 6,\n",
       " 'Y': 32}"
      ]
     },
     "execution_count": 37,
     "metadata": {},
     "output_type": "execute_result"
    }
   ],
   "source": [
    "covid_analysed7.count_amino_acids()"
   ]
  },
  {
   "cell_type": "code",
   "execution_count": 38,
   "metadata": {},
   "outputs": [
    {
     "data": {
      "text/plain": [
       "{'A': 126,\n",
       " 'C': 51,\n",
       " 'D': 103,\n",
       " 'E': 119,\n",
       " 'F': 80,\n",
       " 'G': 98,\n",
       " 'H': 35,\n",
       " 'I': 97,\n",
       " 'K': 140,\n",
       " 'L': 178,\n",
       " 'M': 37,\n",
       " 'N': 113,\n",
       " 'P': 74,\n",
       " 'Q': 68,\n",
       " 'R': 45,\n",
       " 'S': 139,\n",
       " 'T': 164,\n",
       " 'V': 165,\n",
       " 'W': 18,\n",
       " 'Y': 95}"
      ]
     },
     "execution_count": 38,
     "metadata": {},
     "output_type": "execute_result"
    }
   ],
   "source": [
    "covid_analysed8.count_amino_acids()"
   ]
  },
  {
   "cell_type": "code",
   "execution_count": 39,
   "metadata": {},
   "outputs": [
    {
     "data": {
      "text/plain": [
       "{'A': 44,\n",
       " 'C': 27,\n",
       " 'D': 20,\n",
       " 'E': 54,\n",
       " 'F': 30,\n",
       " 'G': 49,\n",
       " 'H': 9,\n",
       " 'I': 40,\n",
       " 'K': 51,\n",
       " 'L': 60,\n",
       " 'M': 10,\n",
       " 'N': 31,\n",
       " 'P': 22,\n",
       " 'Q': 18,\n",
       " 'R': 19,\n",
       " 'S': 36,\n",
       " 'T': 46,\n",
       " 'V': 46,\n",
       " 'W': 7,\n",
       " 'Y': 19}"
      ]
     },
     "execution_count": 39,
     "metadata": {},
     "output_type": "execute_result"
    }
   ],
   "source": [
    "covid_analysed9.count_amino_acids()"
   ]
  },
  {
   "cell_type": "code",
   "execution_count": 40,
   "metadata": {},
   "outputs": [
    {
     "data": {
      "text/plain": [
       "{'A': 7,\n",
       " 'C': 1,\n",
       " 'D': 9,\n",
       " 'E': 18,\n",
       " 'F': 5,\n",
       " 'G': 22,\n",
       " 'H': 7,\n",
       " 'I': 3,\n",
       " 'K': 9,\n",
       " 'L': 21,\n",
       " 'M': 3,\n",
       " 'N': 6,\n",
       " 'P': 8,\n",
       " 'Q': 7,\n",
       " 'R': 10,\n",
       " 'S': 10,\n",
       " 'T': 7,\n",
       " 'V': 21,\n",
       " 'W': 1,\n",
       " 'Y': 5}"
      ]
     },
     "execution_count": 40,
     "metadata": {},
     "output_type": "execute_result"
    }
   ],
   "source": [
    "covid_analysed10.count_amino_acids()"
   ]
  },
  {
   "cell_type": "code",
   "execution_count": 41,
   "metadata": {},
   "outputs": [
    {
     "data": {
      "text/plain": [
       "{'A': 2,\n",
       " 'C': 2,\n",
       " 'D': 2,\n",
       " 'E': 3,\n",
       " 'F': 6,\n",
       " 'G': 0,\n",
       " 'H': 2,\n",
       " 'I': 5,\n",
       " 'K': 0,\n",
       " 'L': 11,\n",
       " 'M': 2,\n",
       " 'N': 1,\n",
       " 'P': 0,\n",
       " 'Q': 1,\n",
       " 'R': 0,\n",
       " 'S': 2,\n",
       " 'T': 1,\n",
       " 'V': 1,\n",
       " 'W': 1,\n",
       " 'Y': 1}"
      ]
     },
     "execution_count": 41,
     "metadata": {},
     "output_type": "execute_result"
    }
   ],
   "source": [
    "covid_analysed11.count_amino_acids()"
   ]
  },
  {
   "cell_type": "code",
   "execution_count": 42,
   "metadata": {},
   "outputs": [
    {
     "data": {
      "text/plain": [
       "{'A': 3,\n",
       " 'C': 0,\n",
       " 'D': 1,\n",
       " 'E': 0,\n",
       " 'F': 2,\n",
       " 'G': 1,\n",
       " 'H': 0,\n",
       " 'I': 0,\n",
       " 'K': 0,\n",
       " 'L': 1,\n",
       " 'M': 0,\n",
       " 'N': 1,\n",
       " 'P': 0,\n",
       " 'Q': 1,\n",
       " 'R': 0,\n",
       " 'S': 2,\n",
       " 'T': 0,\n",
       " 'V': 1,\n",
       " 'W': 0,\n",
       " 'Y': 0}"
      ]
     },
     "execution_count": 42,
     "metadata": {},
     "output_type": "execute_result"
    }
   ],
   "source": [
    "covid_analysed12.count_amino_acids()"
   ]
  },
  {
   "cell_type": "code",
   "execution_count": 43,
   "metadata": {},
   "outputs": [
    {
     "data": {
      "text/plain": [
       "{'A': 20,\n",
       " 'C': 5,\n",
       " 'D': 18,\n",
       " 'E': 8,\n",
       " 'F': 11,\n",
       " 'G': 20,\n",
       " 'H': 5,\n",
       " 'I': 18,\n",
       " 'K': 18,\n",
       " 'L': 32,\n",
       " 'M': 12,\n",
       " 'N': 21,\n",
       " 'P': 10,\n",
       " 'Q': 12,\n",
       " 'R': 9,\n",
       " 'S': 23,\n",
       " 'T': 18,\n",
       " 'V': 19,\n",
       " 'W': 7,\n",
       " 'Y': 12}"
      ]
     },
     "execution_count": 43,
     "metadata": {},
     "output_type": "execute_result"
    }
   ],
   "source": [
    "covid_analysed13.count_amino_acids()"
   ]
  },
  {
   "cell_type": "code",
   "execution_count": 44,
   "metadata": {},
   "outputs": [
    {
     "data": {
      "text/plain": [
       "{'A': 16,\n",
       " 'C': 5,\n",
       " 'D': 23,\n",
       " 'E': 23,\n",
       " 'F': 21,\n",
       " 'G': 22,\n",
       " 'H': 6,\n",
       " 'I': 23,\n",
       " 'K': 25,\n",
       " 'L': 29,\n",
       " 'M': 5,\n",
       " 'N': 17,\n",
       " 'P': 14,\n",
       " 'Q': 15,\n",
       " 'R': 9,\n",
       " 'S': 20,\n",
       " 'T': 21,\n",
       " 'V': 38,\n",
       " 'W': 3,\n",
       " 'Y': 11}"
      ]
     },
     "execution_count": 44,
     "metadata": {},
     "output_type": "execute_result"
    }
   ],
   "source": [
    "covid_analysed14.count_amino_acids()"
   ]
  },
  {
   "cell_type": "code",
   "execution_count": 45,
   "metadata": {},
   "outputs": [
    {
     "data": {
      "text/plain": [
       "{'A': 35,\n",
       " 'C': 23,\n",
       " 'D': 34,\n",
       " 'E': 16,\n",
       " 'F': 30,\n",
       " 'G': 30,\n",
       " 'H': 20,\n",
       " 'I': 25,\n",
       " 'K': 30,\n",
       " 'L': 40,\n",
       " 'M': 13,\n",
       " 'N': 28,\n",
       " 'P': 26,\n",
       " 'Q': 16,\n",
       " 'R': 22,\n",
       " 'S': 28,\n",
       " 'T': 32,\n",
       " 'V': 44,\n",
       " 'W': 10,\n",
       " 'Y': 25}"
      ]
     },
     "execution_count": 45,
     "metadata": {},
     "output_type": "execute_result"
    }
   ],
   "source": [
    "covid_analysed15.count_amino_acids()"
   ]
  },
  {
   "cell_type": "code",
   "execution_count": null,
   "metadata": {},
   "outputs": [],
   "source": []
  },
  {
   "cell_type": "code",
   "execution_count": 46,
   "metadata": {},
   "outputs": [],
   "source": [
    "from collections import Counter"
   ]
  },
  {
   "cell_type": "code",
   "execution_count": 47,
   "metadata": {},
   "outputs": [],
   "source": [
    "covid_freq1 = Counter(covid_protein1)\n",
    "covid_freq2 = Counter(covid_protein2)\n",
    "covid_freq3 = Counter(covid_protein3)\n",
    "covid_freq4 = Counter(covid_protein4)\n",
    "covid_freq5 = Counter(covid_protein5)\n",
    "covid_freq6 = Counter(covid_protein6)\n",
    "covid_freq7 = Counter(covid_protein7)\n",
    "covid_freq8 = Counter(covid_protein8)\n",
    "covid_freq9 = Counter(covid_protein9)\n",
    "covid_freq10 = Counter(covid_protein10)\n",
    "covid_freq11 = Counter(covid_protein11)\n",
    "covid_freq12 = Counter(covid_protein12)\n",
    "covid_freq13 = Counter(covid_protein13)\n",
    "covid_freq14 = Counter(covid_protein14)\n",
    "covid_freq15 = Counter(covid_protein15)\n"
   ]
  },
  {
   "cell_type": "code",
   "execution_count": 48,
   "metadata": {},
   "outputs": [
    {
     "data": {
      "text/plain": [
       "Counter({'A': 13,\n",
       "         'G': 13,\n",
       "         'N': 7,\n",
       "         'T': 13,\n",
       "         'E': 4,\n",
       "         'V': 9,\n",
       "         'P': 8,\n",
       "         'S': 6,\n",
       "         'L': 8,\n",
       "         'F': 5,\n",
       "         'C': 13,\n",
       "         'D': 7,\n",
       "         'K': 8,\n",
       "         'Y': 5,\n",
       "         'Q': 6,\n",
       "         'I': 4,\n",
       "         'M': 4,\n",
       "         'H': 3,\n",
       "         'R': 2,\n",
       "         'W': 1})"
      ]
     },
     "execution_count": 48,
     "metadata": {},
     "output_type": "execute_result"
    }
   ],
   "source": [
    "covid_freq1"
   ]
  },
  {
   "cell_type": "code",
   "execution_count": 49,
   "metadata": {},
   "outputs": [
    {
     "data": {
      "text/plain": [
       "Counter({'N': 7,\n",
       "         'E': 3,\n",
       "         'L': 15,\n",
       "         'S': 5,\n",
       "         'P': 6,\n",
       "         'V': 6,\n",
       "         'A': 10,\n",
       "         'R': 6,\n",
       "         'Q': 4,\n",
       "         'M': 2,\n",
       "         'C': 3,\n",
       "         'G': 9,\n",
       "         'T': 12,\n",
       "         'D': 6,\n",
       "         'Y': 5,\n",
       "         'K': 7,\n",
       "         'F': 4,\n",
       "         'W': 1,\n",
       "         'I': 2})"
      ]
     },
     "execution_count": 49,
     "metadata": {},
     "output_type": "execute_result"
    }
   ],
   "source": [
    "covid_freq2"
   ]
  },
  {
   "cell_type": "code",
   "execution_count": 50,
   "metadata": {},
   "outputs": [
    {
     "data": {
      "text/plain": [
       "Counter({'A': 28,\n",
       "         'I': 10,\n",
       "         'S': 15,\n",
       "         'E': 9,\n",
       "         'F': 5,\n",
       "         'L': 18,\n",
       "         'P': 6,\n",
       "         'Y': 6,\n",
       "         'T': 13,\n",
       "         'Q': 11,\n",
       "         'V': 13,\n",
       "         'N': 13,\n",
       "         'G': 3,\n",
       "         'D': 13,\n",
       "         'K': 15,\n",
       "         'R': 7,\n",
       "         'M': 9,\n",
       "         'C': 2,\n",
       "         'W': 2})"
      ]
     },
     "execution_count": 50,
     "metadata": {},
     "output_type": "execute_result"
    }
   ],
   "source": [
    "covid_freq3"
   ]
  },
  {
   "cell_type": "code",
   "execution_count": 51,
   "metadata": {},
   "outputs": [
    {
     "data": {
      "text/plain": [
       "Counter({'S': 10,\n",
       "         'K': 6,\n",
       "         'M': 4,\n",
       "         'D': 5,\n",
       "         'V': 9,\n",
       "         'C': 3,\n",
       "         'T': 4,\n",
       "         'L': 15,\n",
       "         'Q': 6,\n",
       "         'R': 2,\n",
       "         'E': 5,\n",
       "         'W': 1,\n",
       "         'A': 5,\n",
       "         'H': 1,\n",
       "         'N': 3,\n",
       "         'I': 2,\n",
       "         'F': 1,\n",
       "         'G': 1})"
      ]
     },
     "execution_count": 51,
     "metadata": {},
     "output_type": "execute_result"
    }
   ],
   "source": [
    "covid_freq4"
   ]
  },
  {
   "cell_type": "code",
   "execution_count": 52,
   "metadata": {},
   "outputs": [
    {
     "data": {
      "text/plain": [
       "Counter({'S': 17,\n",
       "         'A': 20,\n",
       "         'V': 28,\n",
       "         'K': 12,\n",
       "         'R': 9,\n",
       "         'T': 21,\n",
       "         'I': 16,\n",
       "         'G': 15,\n",
       "         'H': 4,\n",
       "         'W': 6,\n",
       "         'L': 41,\n",
       "         'Q': 7,\n",
       "         'F': 22,\n",
       "         'Y': 17,\n",
       "         'E': 3,\n",
       "         'N': 10,\n",
       "         'P': 7,\n",
       "         'M': 17,\n",
       "         'C': 10,\n",
       "         'D': 8})"
      ]
     },
     "execution_count": 52,
     "metadata": {},
     "output_type": "execute_result"
    }
   ],
   "source": [
    "covid_freq5"
   ]
  },
  {
   "cell_type": "code",
   "execution_count": 53,
   "metadata": {},
   "outputs": [
    {
     "data": {
      "text/plain": [
       "Counter({'S': 16,\n",
       "         'G': 26,\n",
       "         'F': 17,\n",
       "         'R': 11,\n",
       "         'K': 11,\n",
       "         'M': 10,\n",
       "         'A': 17,\n",
       "         'P': 13,\n",
       "         'V': 27,\n",
       "         'E': 9,\n",
       "         'C': 12,\n",
       "         'Q': 14,\n",
       "         'T': 24,\n",
       "         'L': 29,\n",
       "         'N': 21,\n",
       "         'W': 3,\n",
       "         'D': 17,\n",
       "         'Y': 11,\n",
       "         'H': 7,\n",
       "         'I': 11})"
      ]
     },
     "execution_count": 53,
     "metadata": {},
     "output_type": "execute_result"
    }
   ],
   "source": [
    "covid_freq6"
   ]
  },
  {
   "cell_type": "code",
   "execution_count": 54,
   "metadata": {},
   "outputs": [
    {
     "data": {
      "text/plain": [
       "Counter({'K': 17,\n",
       "         'I': 30,\n",
       "         'V': 46,\n",
       "         'N': 21,\n",
       "         'W': 6,\n",
       "         'L': 49,\n",
       "         'Q': 9,\n",
       "         'T': 41,\n",
       "         'F': 37,\n",
       "         'A': 36,\n",
       "         'Y': 32,\n",
       "         'P': 20,\n",
       "         'H': 9,\n",
       "         'M': 9,\n",
       "         'S': 38,\n",
       "         'D': 22,\n",
       "         'E': 15,\n",
       "         'G': 27,\n",
       "         'R': 20,\n",
       "         'C': 16})"
      ]
     },
     "execution_count": 54,
     "metadata": {},
     "output_type": "execute_result"
    }
   ],
   "source": [
    "covid_freq7"
   ]
  },
  {
   "cell_type": "code",
   "execution_count": 55,
   "metadata": {},
   "outputs": [
    {
     "data": {
      "text/plain": [
       "Counter({'A': 126,\n",
       "         'P': 74,\n",
       "         'T': 164,\n",
       "         'K': 140,\n",
       "         'V': 165,\n",
       "         'F': 80,\n",
       "         'G': 98,\n",
       "         'D': 103,\n",
       "         'I': 97,\n",
       "         'E': 119,\n",
       "         'Q': 68,\n",
       "         'Y': 95,\n",
       "         'S': 139,\n",
       "         'N': 113,\n",
       "         'L': 178,\n",
       "         'R': 45,\n",
       "         'C': 51,\n",
       "         'W': 18,\n",
       "         'M': 37,\n",
       "         'H': 35})"
      ]
     },
     "execution_count": 55,
     "metadata": {},
     "output_type": "execute_result"
    }
   ],
   "source": [
    "covid_freq8"
   ]
  },
  {
   "cell_type": "code",
   "execution_count": 56,
   "metadata": {},
   "outputs": [
    {
     "data": {
      "text/plain": [
       "Counter({'A': 44,\n",
       "         'Y': 19,\n",
       "         'T': 46,\n",
       "         'R': 19,\n",
       "         'V': 46,\n",
       "         'D': 20,\n",
       "         'N': 31,\n",
       "         'F': 30,\n",
       "         'C': 27,\n",
       "         'G': 49,\n",
       "         'P': 22,\n",
       "         'L': 60,\n",
       "         'E': 54,\n",
       "         'I': 40,\n",
       "         'K': 51,\n",
       "         'S': 36,\n",
       "         'Q': 18,\n",
       "         'H': 9,\n",
       "         'W': 7,\n",
       "         'M': 10})"
      ]
     },
     "execution_count": 56,
     "metadata": {},
     "output_type": "execute_result"
    }
   ],
   "source": [
    "covid_freq9"
   ]
  },
  {
   "cell_type": "code",
   "execution_count": 57,
   "metadata": {},
   "outputs": [
    {
     "data": {
      "text/plain": [
       "Counter({'M': 3,\n",
       "         'E': 18,\n",
       "         'S': 10,\n",
       "         'L': 21,\n",
       "         'V': 21,\n",
       "         'P': 8,\n",
       "         'G': 22,\n",
       "         'F': 5,\n",
       "         'N': 6,\n",
       "         'K': 9,\n",
       "         'T': 7,\n",
       "         'H': 7,\n",
       "         'Q': 7,\n",
       "         'R': 10,\n",
       "         'D': 9,\n",
       "         'A': 7,\n",
       "         'C': 1,\n",
       "         'Y': 5,\n",
       "         'I': 3,\n",
       "         'W': 1})"
      ]
     },
     "execution_count": 57,
     "metadata": {},
     "output_type": "execute_result"
    }
   ],
   "source": [
    "covid_freq10"
   ]
  },
  {
   "cell_type": "code",
   "execution_count": 58,
   "metadata": {},
   "outputs": [
    {
     "data": {
      "text/plain": [
       "Counter({'M': 2,\n",
       "         'I': 5,\n",
       "         'E': 3,\n",
       "         'L': 11,\n",
       "         'S': 2,\n",
       "         'D': 2,\n",
       "         'F': 6,\n",
       "         'Y': 1,\n",
       "         'C': 2,\n",
       "         'A': 2,\n",
       "         'V': 1,\n",
       "         'W': 1,\n",
       "         'Q': 1,\n",
       "         'H': 2,\n",
       "         'N': 1,\n",
       "         'T': 1})"
      ]
     },
     "execution_count": 58,
     "metadata": {},
     "output_type": "execute_result"
    }
   ],
   "source": [
    "covid_freq11"
   ]
  },
  {
   "cell_type": "code",
   "execution_count": 59,
   "metadata": {},
   "outputs": [
    {
     "data": {
      "text/plain": [
       "Counter({'S': 2,\n",
       "         'A': 3,\n",
       "         'D': 1,\n",
       "         'Q': 1,\n",
       "         'F': 2,\n",
       "         'L': 1,\n",
       "         'N': 1,\n",
       "         'G': 1,\n",
       "         'V': 1})"
      ]
     },
     "execution_count": 59,
     "metadata": {},
     "output_type": "execute_result"
    }
   ],
   "source": [
    "covid_freq12"
   ]
  },
  {
   "cell_type": "code",
   "execution_count": 60,
   "metadata": {},
   "outputs": [
    {
     "data": {
      "text/plain": [
       "Counter({'S': 23,\n",
       "         'Q': 12,\n",
       "         'A': 20,\n",
       "         'W': 7,\n",
       "         'P': 10,\n",
       "         'G': 20,\n",
       "         'V': 19,\n",
       "         'M': 12,\n",
       "         'N': 21,\n",
       "         'L': 32,\n",
       "         'Y': 12,\n",
       "         'K': 18,\n",
       "         'R': 9,\n",
       "         'E': 8,\n",
       "         'C': 5,\n",
       "         'D': 18,\n",
       "         'T': 18,\n",
       "         'I': 18,\n",
       "         'H': 5,\n",
       "         'F': 11})"
      ]
     },
     "execution_count": 60,
     "metadata": {},
     "output_type": "execute_result"
    }
   ],
   "source": [
    "covid_freq13"
   ]
  },
  {
   "cell_type": "code",
   "execution_count": 61,
   "metadata": {},
   "outputs": [
    {
     "data": {
      "text/plain": [
       "Counter({'S': 20,\n",
       "         'L': 29,\n",
       "         'E': 23,\n",
       "         'N': 17,\n",
       "         'V': 38,\n",
       "         'A': 16,\n",
       "         'F': 21,\n",
       "         'K': 25,\n",
       "         'G': 22,\n",
       "         'H': 6,\n",
       "         'D': 23,\n",
       "         'Q': 15,\n",
       "         'P': 14,\n",
       "         'I': 23,\n",
       "         'T': 21,\n",
       "         'Y': 11,\n",
       "         'W': 3,\n",
       "         'R': 9,\n",
       "         'C': 5,\n",
       "         'M': 5})"
      ]
     },
     "execution_count": 61,
     "metadata": {},
     "output_type": "execute_result"
    }
   ],
   "source": [
    "covid_freq14"
   ]
  },
  {
   "cell_type": "code",
   "execution_count": 62,
   "metadata": {},
   "outputs": [
    {
     "data": {
      "text/plain": [
       "Counter({'A': 35,\n",
       "         'E': 16,\n",
       "         'N': 28,\n",
       "         'V': 44,\n",
       "         'T': 32,\n",
       "         'G': 30,\n",
       "         'L': 40,\n",
       "         'F': 30,\n",
       "         'K': 30,\n",
       "         'D': 34,\n",
       "         'C': 23,\n",
       "         'S': 28,\n",
       "         'I': 25,\n",
       "         'H': 20,\n",
       "         'P': 26,\n",
       "         'Q': 16,\n",
       "         'M': 13,\n",
       "         'Y': 25,\n",
       "         'R': 22,\n",
       "         'W': 10})"
      ]
     },
     "execution_count": 62,
     "metadata": {},
     "output_type": "execute_result"
    }
   ],
   "source": [
    "covid_freq15"
   ]
  },
  {
   "cell_type": "code",
   "execution_count": 63,
   "metadata": {},
   "outputs": [
    {
     "data": {
      "text/plain": [
       "<BarContainer object of 20 artists>"
      ]
     },
     "execution_count": 63,
     "metadata": {},
     "output_type": "execute_result"
    },
    {
     "data": {
      "image/png": "[encoded data removed]",
      "text/plain": [
       "<Figure size 432x288 with 1 Axes>"
      ]
     },
     "metadata": {
      "needs_background": "light"
     },
     "output_type": "display_data"
    }
   ],
   "source": [
    "plt.bar(covid_freq1.keys(), covid_freq1.values())"
   ]
  },
  {
   "cell_type": "code",
   "execution_count": 65,
   "metadata": {},
   "outputs": [
    {
     "data": {
      "text/plain": [
       "<BarContainer object of 19 artists>"
      ]
     },
     "execution_count": 65,
     "metadata": {},
     "output_type": "execute_result"
    },
    {
     "data": {
      "image/png": "[encoded data removed]",
      "text/plain": [
       "<Figure size 432x288 with 1 Axes>"
      ]
     },
     "metadata": {
      "needs_background": "light"
     },
     "output_type": "display_data"
    }
   ],
   "source": [
    "plt.bar(covid_freq2.keys(), covid_freq2.values())"
   ]
  },
  {
   "cell_type": "code",
   "execution_count": 66,
   "metadata": {},
   "outputs": [
    {
     "data": {
      "text/plain": [
       "<BarContainer object of 19 artists>"
      ]
     },
     "execution_count": 66,
     "metadata": {},
     "output_type": "execute_result"
    },
    {
     "data": {
      "image/png": "[encoded data removed]",
      "text/plain": [
       "<Figure size 432x288 with 1 Axes>"
      ]
     },
     "metadata": {
      "needs_background": "light"
     },
     "output_type": "display_data"
    }
   ],
   "source": [
    "plt.bar(covid_freq3.keys(), covid_freq3.values())"
   ]
  },
  {
   "cell_type": "code",
   "execution_count": 67,
   "metadata": {},
   "outputs": [
    {
     "data": {
      "text/plain": [
       "<BarContainer object of 18 artists>"
      ]
     },
     "execution_count": 67,
     "metadata": {},
     "output_type": "execute_result"
    },
    {
     "data": {
      "image/png": "[encoded data removed]",
      "text/plain": [
       "<Figure size 432x288 with 1 Axes>"
      ]
     },
     "metadata": {
      "needs_background": "light"
     },
     "output_type": "display_data"
    }
   ],
   "source": [
    "plt.bar(covid_freq4.keys(), covid_freq4.values())"
   ]
  },
  {
   "cell_type": "code",
   "execution_count": 68,
   "metadata": {},
   "outputs": [
    {
     "data": {
      "text/plain": [
       "<BarContainer object of 20 artists>"
      ]
     },
     "execution_count": 68,
     "metadata": {},
     "output_type": "execute_result"
    },
    {
     "data": {
      "image/png": "[encoded data removed]",
      "text/plain": [
       "<Figure size 432x288 with 1 Axes>"
      ]
     },
     "metadata": {
      "needs_background": "light"
     },
     "output_type": "display_data"
    }
   ],
   "source": [
    "plt.bar(covid_freq5.keys(), covid_freq5.values())"
   ]
  },
  {
   "cell_type": "code",
   "execution_count": 69,
   "metadata": {},
   "outputs": [
    {
     "data": {
      "text/plain": [
       "<BarContainer object of 20 artists>"
      ]
     },
     "execution_count": 69,
     "metadata": {},
     "output_type": "execute_result"
    },
    {
     "data": {
      "image/png": "[encoded data removed]",
      "text/plain": [
       "<Figure size 432x288 with 1 Axes>"
      ]
     },
     "metadata": {
      "needs_background": "light"
     },
     "output_type": "display_data"
    }
   ],
   "source": [
    "plt.bar(covid_freq6.keys(), covid_freq6.values())"
   ]
  },
  {
   "cell_type": "code",
   "execution_count": 70,
   "metadata": {},
   "outputs": [
    {
     "data": {
      "text/plain": [
       "<BarContainer object of 20 artists>"
      ]
     },
     "execution_count": 70,
     "metadata": {},
     "output_type": "execute_result"
    },
    {
     "data": {
      "image/png": "[encoded data removed]",
      "text/plain": [
       "<Figure size 432x288 with 1 Axes>"
      ]
     },
     "metadata": {
      "needs_background": "light"
     },
     "output_type": "display_data"
    }
   ],
   "source": [
    "plt.bar(covid_freq7.keys(), covid_freq7.values())"
   ]
  },
  {
   "cell_type": "code",
   "execution_count": 71,
   "metadata": {},
   "outputs": [
    {
     "data": {
      "text/plain": [
       "<BarContainer object of 20 artists>"
      ]
     },
     "execution_count": 71,
     "metadata": {},
     "output_type": "execute_result"
    },
    {
     "data": {
      "image/png": "[encoded data removed]",
      "text/plain": [
       "<Figure size 432x288 with 1 Axes>"
      ]
     },
     "metadata": {
      "needs_background": "light"
     },
     "output_type": "display_data"
    }
   ],
   "source": [
    "plt.bar(covid_freq8.keys(), covid_freq8.values())"
   ]
  },
  {
   "cell_type": "code",
   "execution_count": 72,
   "metadata": {},
   "outputs": [
    {
     "data": {
      "text/plain": [
       "<BarContainer object of 20 artists>"
      ]
     },
     "execution_count": 72,
     "metadata": {},
     "output_type": "execute_result"
    },
    {
     "data": {
      "image/png": "[encoded data removed]",
      "text/plain": [
       "<Figure size 432x288 with 1 Axes>"
      ]
     },
     "metadata": {
      "needs_background": "light"
     },
     "output_type": "display_data"
    }
   ],
   "source": [
    "plt.bar(covid_freq9.keys(), covid_freq9.values())"
   ]
  },
  {
   "cell_type": "code",
   "execution_count": 73,
   "metadata": {},
   "outputs": [
    {
     "data": {
      "text/plain": [
       "<BarContainer object of 20 artists>"
      ]
     },
     "execution_count": 73,
     "metadata": {},
     "output_type": "execute_result"
    },
    {
     "data": {
      "image/png": "[encoded data removed]",
      "text/plain": [
       "<Figure size 432x288 with 1 Axes>"
      ]
     },
     "metadata": {
      "needs_background": "light"
     },
     "output_type": "display_data"
    }
   ],
   "source": [
    "plt.bar(covid_freq10.keys(), covid_freq10.values())"
   ]
  },
  {
   "cell_type": "code",
   "execution_count": 74,
   "metadata": {},
   "outputs": [
    {
     "data": {
      "text/plain": [
       "<BarContainer object of 16 artists>"
      ]
     },
     "execution_count": 74,
     "metadata": {},
     "output_type": "execute_result"
    },
    {
     "data": {
      "image/png": "[encoded data removed]",
      "text/plain": [
       "<Figure size 432x288 with 1 Axes>"
      ]
     },
     "metadata": {
      "needs_background": "light"
     },
     "output_type": "display_data"
    }
   ],
   "source": [
    "plt.bar(covid_freq11.keys(), covid_freq11.values())"
   ]
  },
  {
   "cell_type": "code",
   "execution_count": 75,
   "metadata": {},
   "outputs": [
    {
     "data": {
      "text/plain": [
       "<BarContainer object of 9 artists>"
      ]
     },
     "execution_count": 75,
     "metadata": {},
     "output_type": "execute_result"
    },
    {
     "data": {
      "image/png": "[encoded data removed]",
      "text/plain": [
       "<Figure size 432x288 with 1 Axes>"
      ]
     },
     "metadata": {
      "needs_background": "light"
     },
     "output_type": "display_data"
    }
   ],
   "source": [
    "plt.bar(covid_freq12.keys(), covid_freq12.values())"
   ]
  },
  {
   "cell_type": "code",
   "execution_count": 76,
   "metadata": {},
   "outputs": [
    {
     "data": {
      "text/plain": [
       "<BarContainer object of 20 artists>"
      ]
     },
     "execution_count": 76,
     "metadata": {},
     "output_type": "execute_result"
    },
    {
     "data": {
      "image/png": "[encoded data removed]",
      "text/plain": [
       "<Figure size 432x288 with 1 Axes>"
      ]
     },
     "metadata": {
      "needs_background": "light"
     },
     "output_type": "display_data"
    }
   ],
   "source": [
    "plt.bar(covid_freq13.keys(), covid_freq13.values())"
   ]
  },
  {
   "cell_type": "code",
   "execution_count": 77,
   "metadata": {},
   "outputs": [
    {
     "data": {
      "text/plain": [
       "<BarContainer object of 20 artists>"
      ]
     },
     "execution_count": 77,
     "metadata": {},
     "output_type": "execute_result"
    },
    {
     "data": {
      "image/png": "[encoded data removed]",
      "text/plain": [
       "<Figure size 432x288 with 1 Axes>"
      ]
     },
     "metadata": {
      "needs_background": "light"
     },
     "output_type": "display_data"
    }
   ],
   "source": [
    "plt.bar(covid_freq14.keys(), covid_freq14.values())"
   ]
  },
  {
   "cell_type": "code",
   "execution_count": 78,
   "metadata": {},
   "outputs": [
    {
     "data": {
      "text/plain": [
       "<BarContainer object of 20 artists>"
      ]
     },
     "execution_count": 78,
     "metadata": {},
     "output_type": "execute_result"
    },
    {
     "data": {
      "image/png": "[encoded data removed]",
      "text/plain": [
       "<Figure size 432x288 with 1 Axes>"
      ]
     },
     "metadata": {
      "needs_background": "light"
     },
     "output_type": "display_data"
    }
   ],
   "source": [
    "plt.bar(covid_freq15.keys(), covid_freq15.values())"
   ]
  },
  {
   "cell_type": "code",
   "execution_count": null,
   "metadata": {},
   "outputs": [],
   "source": []
  }
 ],
 "metadata": {
  "kernelspec": {
   "display_name": "Python 3",
   "language": "python",
   "name": "python3"
  },
  "language_info": {
   "codemirror_mode": {
    "name": "ipython",
    "version": 3
   },
   "file_extension": ".py",
   "mimetype": "text/x-python",
   "name": "python",
   "nbconvert_exporter": "python",
   "pygments_lexer": "ipython3",
   "version": "3.8.5"
  }
 },
 "nbformat": 4,
 "nbformat_minor": 4
}
